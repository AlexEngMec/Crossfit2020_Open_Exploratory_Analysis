{
 "cells": [
  {
   "cell_type": "markdown",
   "id": "93f5c16e-5925-480b-b34a-5f4450f51676",
   "metadata": {},
   "source": [
    "# CrossFit 2020 Open - Exploratory Analysis\n",
    "\n",
    "Main idea:\n",
    "\n",
    "Analyze data from the 2020 open crossfit competition. Dataset obtained from kaggle."
   ]
  },
  {
   "cell_type": "markdown",
   "id": "3d615397-c99d-490e-a141-e7b72ecf4136",
   "metadata": {},
   "source": [
    "## Import libraries"
   ]
  },
  {
   "cell_type": "code",
   "execution_count": 6,
   "id": "4a5af222-cf2c-47e2-ad6c-9c134eb5861a",
   "metadata": {},
   "outputs": [],
   "source": [
    "import pandas as pd\n",
    "import numpy as np\n",
    "from matplotlib import pyplot as plt"
   ]
  },
  {
   "cell_type": "markdown",
   "id": "4ba82864-449a-46ab-80dd-3a9349cce205",
   "metadata": {},
   "source": [
    "## Import data from '2020_OPENS_ATHLETES'"
   ]
  },
  {
   "cell_type": "code",
   "execution_count": 3,
   "id": "467c1daf-9673-48e3-b929-d7e4dacd3f2d",
   "metadata": {},
   "outputs": [],
   "source": [
    "DF_Open2020A = pd.read_csv('2020_opens_athletes.csv', low_memory= False) # Import data from csv file"
   ]
  },
  {
   "cell_type": "markdown",
   "id": "35fda1e1-b6f5-47b9-a467-de1475259311",
   "metadata": {},
   "source": [
    "## General look into data from Athletes "
   ]
  },
  {
   "cell_type": "code",
   "execution_count": 5,
   "id": "22e377ad-2a0d-4ce0-9881-f9d12c572b9d",
   "metadata": {},
   "outputs": [
    {
     "data": {
      "text/html": [
       "<div>\n",
       "<style scoped>\n",
       "    .dataframe tbody tr th:only-of-type {\n",
       "        vertical-align: middle;\n",
       "    }\n",
       "\n",
       "    .dataframe tbody tr th {\n",
       "        vertical-align: top;\n",
       "    }\n",
       "\n",
       "    .dataframe thead th {\n",
       "        text-align: right;\n",
       "    }\n",
       "</style>\n",
       "<table border=\"1\" class=\"dataframe\">\n",
       "  <thead>\n",
       "    <tr style=\"text-align: right;\">\n",
       "      <th></th>\n",
       "      <th>0</th>\n",
       "      <th>1</th>\n",
       "      <th>2</th>\n",
       "      <th>3</th>\n",
       "      <th>4</th>\n",
       "    </tr>\n",
       "  </thead>\n",
       "  <tbody>\n",
       "    <tr>\n",
       "      <th>competitorid</th>\n",
       "      <td>9184</td>\n",
       "      <td>12348</td>\n",
       "      <td>288661</td>\n",
       "      <td>37629</td>\n",
       "      <td>50423</td>\n",
       "    </tr>\n",
       "    <tr>\n",
       "      <th>competitorname</th>\n",
       "      <td>Janet Black</td>\n",
       "      <td>Karen McCadam</td>\n",
       "      <td>Christine Tensley</td>\n",
       "      <td>Heather Wood</td>\n",
       "      <td>Jennifer Dieter</td>\n",
       "    </tr>\n",
       "    <tr>\n",
       "      <th>firstname</th>\n",
       "      <td>Janet</td>\n",
       "      <td>Karen</td>\n",
       "      <td>Christine</td>\n",
       "      <td>Heather</td>\n",
       "      <td>Jennifer</td>\n",
       "    </tr>\n",
       "    <tr>\n",
       "      <th>lastname</th>\n",
       "      <td>Black</td>\n",
       "      <td>McCadam</td>\n",
       "      <td>Tensley</td>\n",
       "      <td>Wood</td>\n",
       "      <td>Dieter</td>\n",
       "    </tr>\n",
       "    <tr>\n",
       "      <th>postcompstatus</th>\n",
       "      <td>NaN</td>\n",
       "      <td>NaN</td>\n",
       "      <td>NaN</td>\n",
       "      <td>NaN</td>\n",
       "      <td>NaN</td>\n",
       "    </tr>\n",
       "    <tr>\n",
       "      <th>gender</th>\n",
       "      <td>F</td>\n",
       "      <td>F</td>\n",
       "      <td>F</td>\n",
       "      <td>F</td>\n",
       "      <td>F</td>\n",
       "    </tr>\n",
       "    <tr>\n",
       "      <th>profilepics3key</th>\n",
       "      <td>2886e-P9184_12-184.jpg</td>\n",
       "      <td>74335-P12348_6-184.jpg</td>\n",
       "      <td>cb7b3-P288661_1-184.jpg</td>\n",
       "      <td>7b3f4-P37629_3-184.jpg</td>\n",
       "      <td>5ceb5-P50423_10-184.jpg</td>\n",
       "    </tr>\n",
       "    <tr>\n",
       "      <th>countryoforigincode</th>\n",
       "      <td>US</td>\n",
       "      <td>US</td>\n",
       "      <td>US</td>\n",
       "      <td>CA</td>\n",
       "      <td>US</td>\n",
       "    </tr>\n",
       "    <tr>\n",
       "      <th>countryoforiginname</th>\n",
       "      <td>United States</td>\n",
       "      <td>United States</td>\n",
       "      <td>United States</td>\n",
       "      <td>Canada</td>\n",
       "      <td>United States</td>\n",
       "    </tr>\n",
       "    <tr>\n",
       "      <th>divisionid</th>\n",
       "      <td>4</td>\n",
       "      <td>4</td>\n",
       "      <td>4</td>\n",
       "      <td>4</td>\n",
       "      <td>4</td>\n",
       "    </tr>\n",
       "    <tr>\n",
       "      <th>affiliateid</th>\n",
       "      <td>16766</td>\n",
       "      <td>17779</td>\n",
       "      <td>1483</td>\n",
       "      <td>3240</td>\n",
       "      <td>9506</td>\n",
       "    </tr>\n",
       "    <tr>\n",
       "      <th>affiliatename</th>\n",
       "      <td>CrossFit Trison</td>\n",
       "      <td>CrossFit Viento</td>\n",
       "      <td>Flower City CrossFit</td>\n",
       "      <td>CrossFit Quispamsis</td>\n",
       "      <td>Crucible CrossFit</td>\n",
       "    </tr>\n",
       "    <tr>\n",
       "      <th>age</th>\n",
       "      <td>46</td>\n",
       "      <td>45</td>\n",
       "      <td>45</td>\n",
       "      <td>45</td>\n",
       "      <td>46</td>\n",
       "    </tr>\n",
       "    <tr>\n",
       "      <th>height</th>\n",
       "      <td>1.63</td>\n",
       "      <td>1.68</td>\n",
       "      <td>1.65</td>\n",
       "      <td>1.57</td>\n",
       "      <td>1.57</td>\n",
       "    </tr>\n",
       "    <tr>\n",
       "      <th>weight</th>\n",
       "      <td>66.68</td>\n",
       "      <td>66.68</td>\n",
       "      <td>64.41</td>\n",
       "      <td>57.61</td>\n",
       "      <td>61.23</td>\n",
       "    </tr>\n",
       "    <tr>\n",
       "      <th>overallrank</th>\n",
       "      <td>1</td>\n",
       "      <td>2</td>\n",
       "      <td>3</td>\n",
       "      <td>4</td>\n",
       "      <td>5</td>\n",
       "    </tr>\n",
       "    <tr>\n",
       "      <th>overallscore</th>\n",
       "      <td>29</td>\n",
       "      <td>33</td>\n",
       "      <td>48</td>\n",
       "      <td>50</td>\n",
       "      <td>53</td>\n",
       "    </tr>\n",
       "    <tr>\n",
       "      <th>is_scaled</th>\n",
       "      <td>0</td>\n",
       "      <td>0</td>\n",
       "      <td>0</td>\n",
       "      <td>0</td>\n",
       "      <td>0</td>\n",
       "    </tr>\n",
       "    <tr>\n",
       "      <th>division</th>\n",
       "      <td>Women (45-49)</td>\n",
       "      <td>Women (45-49)</td>\n",
       "      <td>Women (45-49)</td>\n",
       "      <td>Women (45-49)</td>\n",
       "      <td>Women (45-49)</td>\n",
       "    </tr>\n",
       "  </tbody>\n",
       "</table>\n",
       "</div>"
      ],
      "text/plain": [
       "                                          0                       1  \\\n",
       "competitorid                           9184                   12348   \n",
       "competitorname                  Janet Black           Karen McCadam   \n",
       "firstname                             Janet                   Karen   \n",
       "lastname                              Black                 McCadam   \n",
       "postcompstatus                          NaN                     NaN   \n",
       "gender                                    F                       F   \n",
       "profilepics3key      2886e-P9184_12-184.jpg  74335-P12348_6-184.jpg   \n",
       "countryoforigincode                      US                      US   \n",
       "countryoforiginname           United States           United States   \n",
       "divisionid                                4                       4   \n",
       "affiliateid                           16766                   17779   \n",
       "affiliatename               CrossFit Trison         CrossFit Viento   \n",
       "age                                      46                      45   \n",
       "height                                 1.63                    1.68   \n",
       "weight                                66.68                   66.68   \n",
       "overallrank                               1                       2   \n",
       "overallscore                             29                      33   \n",
       "is_scaled                                 0                       0   \n",
       "division                      Women (45-49)           Women (45-49)   \n",
       "\n",
       "                                           2                       3  \\\n",
       "competitorid                          288661                   37629   \n",
       "competitorname             Christine Tensley            Heather Wood   \n",
       "firstname                          Christine                 Heather   \n",
       "lastname                             Tensley                    Wood   \n",
       "postcompstatus                           NaN                     NaN   \n",
       "gender                                     F                       F   \n",
       "profilepics3key      cb7b3-P288661_1-184.jpg  7b3f4-P37629_3-184.jpg   \n",
       "countryoforigincode                       US                      CA   \n",
       "countryoforiginname            United States                  Canada   \n",
       "divisionid                                 4                       4   \n",
       "affiliateid                             1483                    3240   \n",
       "affiliatename           Flower City CrossFit     CrossFit Quispamsis   \n",
       "age                                       45                      45   \n",
       "height                                  1.65                    1.57   \n",
       "weight                                 64.41                   57.61   \n",
       "overallrank                                3                       4   \n",
       "overallscore                              48                      50   \n",
       "is_scaled                                  0                       0   \n",
       "division                       Women (45-49)           Women (45-49)   \n",
       "\n",
       "                                           4  \n",
       "competitorid                           50423  \n",
       "competitorname               Jennifer Dieter  \n",
       "firstname                           Jennifer  \n",
       "lastname                              Dieter  \n",
       "postcompstatus                           NaN  \n",
       "gender                                     F  \n",
       "profilepics3key      5ceb5-P50423_10-184.jpg  \n",
       "countryoforigincode                       US  \n",
       "countryoforiginname            United States  \n",
       "divisionid                                 4  \n",
       "affiliateid                             9506  \n",
       "affiliatename              Crucible CrossFit  \n",
       "age                                       46  \n",
       "height                                  1.57  \n",
       "weight                                 61.23  \n",
       "overallrank                                5  \n",
       "overallscore                              53  \n",
       "is_scaled                                  0  \n",
       "division                       Women (45-49)  "
      ]
     },
     "execution_count": 5,
     "metadata": {},
     "output_type": "execute_result"
    }
   ],
   "source": [
    "DF_Open2020A.head(5).transpose() # Visualize table"
   ]
  },
  {
   "cell_type": "code",
   "execution_count": 7,
   "id": "f4c45bc9-8dab-4951-afe3-bd6dc0a612dc",
   "metadata": {},
   "outputs": [
    {
     "data": {
      "text/plain": [
       "(393535, 19)"
      ]
     },
     "execution_count": 7,
     "metadata": {},
     "output_type": "execute_result"
    }
   ],
   "source": [
    "DF_Open2020A.shape # Shape of DataFrame --> Rows,Columns"
   ]
  },
  {
   "cell_type": "code",
   "execution_count": 8,
   "id": "64b44d17-974a-425a-a0ea-a2694ea80137",
   "metadata": {},
   "outputs": [
    {
     "name": "stdout",
     "output_type": "stream",
     "text": [
      "<class 'pandas.core.frame.DataFrame'>\n",
      "RangeIndex: 393535 entries, 0 to 393534\n",
      "Data columns (total 19 columns):\n",
      " #   Column               Non-Null Count   Dtype  \n",
      "---  ------               --------------   -----  \n",
      " 0   competitorid         393535 non-null  int64  \n",
      " 1   competitorname       393535 non-null  object \n",
      " 2   firstname            393535 non-null  object \n",
      " 3   lastname             393535 non-null  object \n",
      " 4   postcompstatus       313 non-null     object \n",
      " 5   gender               393535 non-null  object \n",
      " 6   profilepics3key      393535 non-null  object \n",
      " 7   countryoforigincode  393295 non-null  object \n",
      " 8   countryoforiginname  393535 non-null  object \n",
      " 9   divisionid           393535 non-null  int64  \n",
      " 10  affiliateid          393535 non-null  int64  \n",
      " 11  affiliatename        371541 non-null  object \n",
      " 12  age                  393535 non-null  int64  \n",
      " 13  height               212062 non-null  float64\n",
      " 14  weight               221542 non-null  float64\n",
      " 15  overallrank          393535 non-null  int64  \n",
      " 16  overallscore         393535 non-null  int64  \n",
      " 17  is_scaled            393535 non-null  int64  \n",
      " 18  division             393535 non-null  object \n",
      "dtypes: float64(2), int64(7), object(10)\n",
      "memory usage: 57.0+ MB\n"
     ]
    }
   ],
   "source": [
    "DF_Open2020A.info() #DataFrame info data type and non-null "
   ]
  },
  {
   "cell_type": "markdown",
   "id": "b59cb4ef-c54d-48b7-bcc2-a5b472a78e2b",
   "metadata": {},
   "source": [
    "## Check for competitors duplicated "
   ]
  },
  {
   "cell_type": "code",
   "execution_count": 10,
   "id": "7085ec91-467f-4a15-92e6-a90df77f87dc",
   "metadata": {},
   "outputs": [
    {
     "data": {
      "text/plain": [
       "False    238829\n",
       "True     154706\n",
       "Name: competitorid, dtype: int64"
      ]
     },
     "execution_count": 10,
     "metadata": {},
     "output_type": "execute_result"
    }
   ],
   "source": [
    "DF_Open2020A['competitorid'].duplicated().value_counts() # Number of duplicated competitor id´s"
   ]
  },
  {
   "cell_type": "markdown",
   "id": "40c415fc-0f53-4a8f-af83-4a5dd2885dca",
   "metadata": {},
   "source": [
    "154706 competitor id´s duplicated."
   ]
  },
  {
   "cell_type": "code",
   "execution_count": 12,
   "id": "09a9b522-5624-41cf-aaaf-e871f3e259f0",
   "metadata": {},
   "outputs": [
    {
     "data": {
      "text/html": [
       "<div>\n",
       "<style scoped>\n",
       "    .dataframe tbody tr th:only-of-type {\n",
       "        vertical-align: middle;\n",
       "    }\n",
       "\n",
       "    .dataframe tbody tr th {\n",
       "        vertical-align: top;\n",
       "    }\n",
       "\n",
       "    .dataframe thead th {\n",
       "        text-align: right;\n",
       "    }\n",
       "</style>\n",
       "<table border=\"1\" class=\"dataframe\">\n",
       "  <thead>\n",
       "    <tr style=\"text-align: right;\">\n",
       "      <th></th>\n",
       "      <th>7054</th>\n",
       "      <th>7055</th>\n",
       "      <th>7056</th>\n",
       "      <th>7057</th>\n",
       "      <th>7058</th>\n",
       "    </tr>\n",
       "  </thead>\n",
       "  <tbody>\n",
       "    <tr>\n",
       "      <th>competitorid</th>\n",
       "      <td>827503</td>\n",
       "      <td>502436</td>\n",
       "      <td>1343059</td>\n",
       "      <td>1115728</td>\n",
       "      <td>1010542</td>\n",
       "    </tr>\n",
       "    <tr>\n",
       "      <th>competitorname</th>\n",
       "      <td>Marsha Gillespie</td>\n",
       "      <td>Brandy Lynn Stewart</td>\n",
       "      <td>Susanne Stueber</td>\n",
       "      <td>Lorraine Guerra</td>\n",
       "      <td>Amanda Kaye</td>\n",
       "    </tr>\n",
       "    <tr>\n",
       "      <th>firstname</th>\n",
       "      <td>Marsha</td>\n",
       "      <td>Brandy Lynn</td>\n",
       "      <td>Susanne</td>\n",
       "      <td>Lorraine</td>\n",
       "      <td>Amanda</td>\n",
       "    </tr>\n",
       "    <tr>\n",
       "      <th>lastname</th>\n",
       "      <td>Gillespie</td>\n",
       "      <td>Stewart</td>\n",
       "      <td>Stueber</td>\n",
       "      <td>Guerra</td>\n",
       "      <td>Kaye</td>\n",
       "    </tr>\n",
       "    <tr>\n",
       "      <th>postcompstatus</th>\n",
       "      <td>NaN</td>\n",
       "      <td>NaN</td>\n",
       "      <td>NaN</td>\n",
       "      <td>NaN</td>\n",
       "      <td>NaN</td>\n",
       "    </tr>\n",
       "    <tr>\n",
       "      <th>gender</th>\n",
       "      <td>F</td>\n",
       "      <td>F</td>\n",
       "      <td>F</td>\n",
       "      <td>F</td>\n",
       "      <td>F</td>\n",
       "    </tr>\n",
       "    <tr>\n",
       "      <th>profilepics3key</th>\n",
       "      <td>85a1f-P827503_1-184.jpg</td>\n",
       "      <td>d6ba2-P502436_3-184.jpg</td>\n",
       "      <td>pukie.png</td>\n",
       "      <td>pukie.png</td>\n",
       "      <td>0a39d-P1010542_1-184.jpg</td>\n",
       "    </tr>\n",
       "    <tr>\n",
       "      <th>countryoforigincode</th>\n",
       "      <td>CA</td>\n",
       "      <td>US</td>\n",
       "      <td>DE</td>\n",
       "      <td>US</td>\n",
       "      <td>US</td>\n",
       "    </tr>\n",
       "    <tr>\n",
       "      <th>countryoforiginname</th>\n",
       "      <td>Canada</td>\n",
       "      <td>United States</td>\n",
       "      <td>Germany</td>\n",
       "      <td>United States</td>\n",
       "      <td>United States</td>\n",
       "    </tr>\n",
       "    <tr>\n",
       "      <th>divisionid</th>\n",
       "      <td>4</td>\n",
       "      <td>4</td>\n",
       "      <td>4</td>\n",
       "      <td>4</td>\n",
       "      <td>4</td>\n",
       "    </tr>\n",
       "    <tr>\n",
       "      <th>affiliateid</th>\n",
       "      <td>7328</td>\n",
       "      <td>0</td>\n",
       "      <td>13413</td>\n",
       "      <td>1041</td>\n",
       "      <td>8250</td>\n",
       "    </tr>\n",
       "    <tr>\n",
       "      <th>affiliatename</th>\n",
       "      <td>CrossFit Pound</td>\n",
       "      <td>NaN</td>\n",
       "      <td>CrossFit Schmelztiegel</td>\n",
       "      <td>CrossFit Syosset</td>\n",
       "      <td>CrossFit West Allis</td>\n",
       "    </tr>\n",
       "    <tr>\n",
       "      <th>age</th>\n",
       "      <td>49</td>\n",
       "      <td>47</td>\n",
       "      <td>46</td>\n",
       "      <td>46</td>\n",
       "      <td>45</td>\n",
       "    </tr>\n",
       "    <tr>\n",
       "      <th>height</th>\n",
       "      <td>NaN</td>\n",
       "      <td>1.6</td>\n",
       "      <td>1.64</td>\n",
       "      <td>NaN</td>\n",
       "      <td>1.75</td>\n",
       "    </tr>\n",
       "    <tr>\n",
       "      <th>weight</th>\n",
       "      <td>NaN</td>\n",
       "      <td>NaN</td>\n",
       "      <td>60.0</td>\n",
       "      <td>67.13</td>\n",
       "      <td>73.03</td>\n",
       "    </tr>\n",
       "    <tr>\n",
       "      <th>overallrank</th>\n",
       "      <td>1</td>\n",
       "      <td>2</td>\n",
       "      <td>3</td>\n",
       "      <td>4</td>\n",
       "      <td>5</td>\n",
       "    </tr>\n",
       "    <tr>\n",
       "      <th>overallscore</th>\n",
       "      <td>20</td>\n",
       "      <td>44</td>\n",
       "      <td>65</td>\n",
       "      <td>71</td>\n",
       "      <td>72</td>\n",
       "    </tr>\n",
       "    <tr>\n",
       "      <th>is_scaled</th>\n",
       "      <td>1</td>\n",
       "      <td>1</td>\n",
       "      <td>1</td>\n",
       "      <td>1</td>\n",
       "      <td>1</td>\n",
       "    </tr>\n",
       "    <tr>\n",
       "      <th>division</th>\n",
       "      <td>Women (45-49)</td>\n",
       "      <td>Women (45-49)</td>\n",
       "      <td>Women (45-49)</td>\n",
       "      <td>Women (45-49)</td>\n",
       "      <td>Women (45-49)</td>\n",
       "    </tr>\n",
       "  </tbody>\n",
       "</table>\n",
       "</div>"
      ],
      "text/plain": [
       "                                        7054                     7055  \\\n",
       "competitorid                          827503                   502436   \n",
       "competitorname              Marsha Gillespie      Brandy Lynn Stewart   \n",
       "firstname                             Marsha              Brandy Lynn   \n",
       "lastname                           Gillespie                  Stewart   \n",
       "postcompstatus                           NaN                      NaN   \n",
       "gender                                     F                        F   \n",
       "profilepics3key      85a1f-P827503_1-184.jpg  d6ba2-P502436_3-184.jpg   \n",
       "countryoforigincode                       CA                       US   \n",
       "countryoforiginname                   Canada            United States   \n",
       "divisionid                                 4                        4   \n",
       "affiliateid                             7328                        0   \n",
       "affiliatename                 CrossFit Pound                      NaN   \n",
       "age                                       49                       47   \n",
       "height                                   NaN                      1.6   \n",
       "weight                                   NaN                      NaN   \n",
       "overallrank                                1                        2   \n",
       "overallscore                              20                       44   \n",
       "is_scaled                                  1                        1   \n",
       "division                       Women (45-49)            Women (45-49)   \n",
       "\n",
       "                                       7056              7057  \\\n",
       "competitorid                        1343059           1115728   \n",
       "competitorname              Susanne Stueber   Lorraine Guerra   \n",
       "firstname                           Susanne          Lorraine   \n",
       "lastname                            Stueber            Guerra   \n",
       "postcompstatus                          NaN               NaN   \n",
       "gender                                    F                 F   \n",
       "profilepics3key                   pukie.png         pukie.png   \n",
       "countryoforigincode                      DE                US   \n",
       "countryoforiginname                 Germany     United States   \n",
       "divisionid                                4                 4   \n",
       "affiliateid                           13413              1041   \n",
       "affiliatename        CrossFit Schmelztiegel  CrossFit Syosset   \n",
       "age                                      46                46   \n",
       "height                                 1.64               NaN   \n",
       "weight                                 60.0             67.13   \n",
       "overallrank                               3                 4   \n",
       "overallscore                             65                71   \n",
       "is_scaled                                 1                 1   \n",
       "division                      Women (45-49)     Women (45-49)   \n",
       "\n",
       "                                         7058  \n",
       "competitorid                          1010542  \n",
       "competitorname                    Amanda Kaye  \n",
       "firstname                              Amanda  \n",
       "lastname                                 Kaye  \n",
       "postcompstatus                            NaN  \n",
       "gender                                      F  \n",
       "profilepics3key      0a39d-P1010542_1-184.jpg  \n",
       "countryoforigincode                        US  \n",
       "countryoforiginname             United States  \n",
       "divisionid                                  4  \n",
       "affiliateid                              8250  \n",
       "affiliatename             CrossFit West Allis  \n",
       "age                                        45  \n",
       "height                                   1.75  \n",
       "weight                                  73.03  \n",
       "overallrank                                 5  \n",
       "overallscore                               72  \n",
       "is_scaled                                   1  \n",
       "division                        Women (45-49)  "
      ]
     },
     "execution_count": 12,
     "metadata": {},
     "output_type": "execute_result"
    }
   ],
   "source": [
    "DF_Open2020A[DF_Open2020A['competitorid'].duplicated()].head(5).transpose() # Check for duplicated competitor "
   ]
  },
  {
   "cell_type": "code",
   "execution_count": 8,
   "id": "0078e004-c212-41b0-8877-0ff4d17b65d5",
   "metadata": {},
   "outputs": [
    {
     "data": {
      "text/html": [
       "<div>\n",
       "<style scoped>\n",
       "    .dataframe tbody tr th:only-of-type {\n",
       "        vertical-align: middle;\n",
       "    }\n",
       "\n",
       "    .dataframe tbody tr th {\n",
       "        vertical-align: top;\n",
       "    }\n",
       "\n",
       "    .dataframe thead th {\n",
       "        text-align: right;\n",
       "    }\n",
       "</style>\n",
       "<table border=\"1\" class=\"dataframe\">\n",
       "  <thead>\n",
       "    <tr style=\"text-align: right;\">\n",
       "      <th></th>\n",
       "      <th>competitorid</th>\n",
       "      <th>competitorname</th>\n",
       "      <th>firstname</th>\n",
       "      <th>lastname</th>\n",
       "      <th>postcompstatus</th>\n",
       "      <th>gender</th>\n",
       "      <th>profilepics3key</th>\n",
       "      <th>countryoforigincode</th>\n",
       "      <th>countryoforiginname</th>\n",
       "      <th>divisionid</th>\n",
       "      <th>affiliateid</th>\n",
       "      <th>affiliatename</th>\n",
       "      <th>age</th>\n",
       "      <th>height</th>\n",
       "      <th>weight</th>\n",
       "      <th>overallrank</th>\n",
       "      <th>overallscore</th>\n",
       "      <th>is_scaled</th>\n",
       "      <th>division</th>\n",
       "    </tr>\n",
       "  </thead>\n",
       "  <tbody>\n",
       "    <tr>\n",
       "      <th>3521</th>\n",
       "      <td>827503</td>\n",
       "      <td>Marsha Gillespie</td>\n",
       "      <td>Marsha</td>\n",
       "      <td>Gillespie</td>\n",
       "      <td>NaN</td>\n",
       "      <td>F</td>\n",
       "      <td>85a1f-P827503_1-184.jpg</td>\n",
       "      <td>CA</td>\n",
       "      <td>Canada</td>\n",
       "      <td>4</td>\n",
       "      <td>7328</td>\n",
       "      <td>CrossFit Pound</td>\n",
       "      <td>49</td>\n",
       "      <td>NaN</td>\n",
       "      <td>NaN</td>\n",
       "      <td>3522</td>\n",
       "      <td>18245</td>\n",
       "      <td>0</td>\n",
       "      <td>Women (45-49)</td>\n",
       "    </tr>\n",
       "    <tr>\n",
       "      <th>7054</th>\n",
       "      <td>827503</td>\n",
       "      <td>Marsha Gillespie</td>\n",
       "      <td>Marsha</td>\n",
       "      <td>Gillespie</td>\n",
       "      <td>NaN</td>\n",
       "      <td>F</td>\n",
       "      <td>85a1f-P827503_1-184.jpg</td>\n",
       "      <td>CA</td>\n",
       "      <td>Canada</td>\n",
       "      <td>4</td>\n",
       "      <td>7328</td>\n",
       "      <td>CrossFit Pound</td>\n",
       "      <td>49</td>\n",
       "      <td>NaN</td>\n",
       "      <td>NaN</td>\n",
       "      <td>1</td>\n",
       "      <td>20</td>\n",
       "      <td>1</td>\n",
       "      <td>Women (45-49)</td>\n",
       "    </tr>\n",
       "    <tr>\n",
       "      <th>141217</th>\n",
       "      <td>827503</td>\n",
       "      <td>Marsha Gillespie</td>\n",
       "      <td>Marsha</td>\n",
       "      <td>Gillespie</td>\n",
       "      <td>NaN</td>\n",
       "      <td>F</td>\n",
       "      <td>85a1f-P827503_1-184.jpg</td>\n",
       "      <td>CA</td>\n",
       "      <td>Canada</td>\n",
       "      <td>4</td>\n",
       "      <td>7328</td>\n",
       "      <td>CrossFit Pound</td>\n",
       "      <td>49</td>\n",
       "      <td>NaN</td>\n",
       "      <td>NaN</td>\n",
       "      <td>54489</td>\n",
       "      <td>271737</td>\n",
       "      <td>0</td>\n",
       "      <td>Women</td>\n",
       "    </tr>\n",
       "    <tr>\n",
       "      <th>180891</th>\n",
       "      <td>827503</td>\n",
       "      <td>Marsha Gillespie</td>\n",
       "      <td>Marsha</td>\n",
       "      <td>Gillespie</td>\n",
       "      <td>NaN</td>\n",
       "      <td>F</td>\n",
       "      <td>85a1f-P827503_1-184.jpg</td>\n",
       "      <td>CA</td>\n",
       "      <td>Canada</td>\n",
       "      <td>4</td>\n",
       "      <td>7328</td>\n",
       "      <td>CrossFit Pound</td>\n",
       "      <td>49</td>\n",
       "      <td>NaN</td>\n",
       "      <td>NaN</td>\n",
       "      <td>6</td>\n",
       "      <td>249</td>\n",
       "      <td>1</td>\n",
       "      <td>Women</td>\n",
       "    </tr>\n",
       "  </tbody>\n",
       "</table>\n",
       "</div>"
      ],
      "text/plain": [
       "        competitorid    competitorname firstname   lastname postcompstatus  \\\n",
       "3521          827503  Marsha Gillespie    Marsha  Gillespie            NaN   \n",
       "7054          827503  Marsha Gillespie    Marsha  Gillespie            NaN   \n",
       "141217        827503  Marsha Gillespie    Marsha  Gillespie            NaN   \n",
       "180891        827503  Marsha Gillespie    Marsha  Gillespie            NaN   \n",
       "\n",
       "       gender          profilepics3key countryoforigincode  \\\n",
       "3521        F  85a1f-P827503_1-184.jpg                  CA   \n",
       "7054        F  85a1f-P827503_1-184.jpg                  CA   \n",
       "141217      F  85a1f-P827503_1-184.jpg                  CA   \n",
       "180891      F  85a1f-P827503_1-184.jpg                  CA   \n",
       "\n",
       "       countryoforiginname  divisionid  affiliateid   affiliatename  age  \\\n",
       "3521                Canada           4         7328  CrossFit Pound   49   \n",
       "7054                Canada           4         7328  CrossFit Pound   49   \n",
       "141217              Canada           4         7328  CrossFit Pound   49   \n",
       "180891              Canada           4         7328  CrossFit Pound   49   \n",
       "\n",
       "        height  weight  overallrank  overallscore  is_scaled       division  \n",
       "3521       NaN     NaN         3522         18245          0  Women (45-49)  \n",
       "7054       NaN     NaN            1            20          1  Women (45-49)  \n",
       "141217     NaN     NaN        54489        271737          0          Women  \n",
       "180891     NaN     NaN            6           249          1          Women  "
      ]
     },
     "execution_count": 8,
     "metadata": {},
     "output_type": "execute_result"
    }
   ],
   "source": [
    "DF_Open2020A[DF_Open2020A['competitorname'] == 'Marsha Gillespie'] # Check for duplicated competitors "
   ]
  },
  {
   "cell_type": "markdown",
   "id": "902bda6b-473e-4736-ac4c-9bf357291568",
   "metadata": {},
   "source": [
    "The table shows one competitor showing up in diferetent divisions."
   ]
  },
  {
   "cell_type": "markdown",
   "id": "5e7b6c71-ec13-4b52-8875-e2f60f9d9e3e",
   "metadata": {},
   "source": [
    "## Make new DF´s only in the men or women division that are in the professional division sorted by overallrank"
   ]
  },
  {
   "cell_type": "code",
   "execution_count": 13,
   "id": "be7a1d4f-977f-4582-8f00-2bdc212f6d47",
   "metadata": {},
   "outputs": [],
   "source": [
    "DF_MenRx = DF_Open2020A[(DF_Open2020A['division'] == 'Men') & (DF_Open2020A['is_scaled'] == 0) & (DF_Open2020A['divisionid'] == 1)].sort_values(by = ['overallrank'])"
   ]
  },
  {
   "cell_type": "code",
   "execution_count": 14,
   "id": "a718c08f-91e8-4dfa-99da-eb39d700ec1c",
   "metadata": {},
   "outputs": [],
   "source": [
    "DF_WomenRx = DF_Open2020A[(DF_Open2020A['division'] == 'Women') & (DF_Open2020A['is_scaled'] == 0) & (DF_Open2020A['divisionid'] == 2)].sort_values(by = ['overallrank'])"
   ]
  },
  {
   "cell_type": "markdown",
   "id": "11f2bc30-ce34-4b9f-b63c-f58c4cac1dbb",
   "metadata": {},
   "source": [
    "## Analysis of men division"
   ]
  },
  {
   "cell_type": "code",
   "execution_count": 16,
   "id": "d9c56181-2b4f-44e1-9c88-f2d8470ad7c7",
   "metadata": {},
   "outputs": [
    {
     "data": {
      "text/html": [
       "<div>\n",
       "<style scoped>\n",
       "    .dataframe tbody tr th:only-of-type {\n",
       "        vertical-align: middle;\n",
       "    }\n",
       "\n",
       "    .dataframe tbody tr th {\n",
       "        vertical-align: top;\n",
       "    }\n",
       "\n",
       "    .dataframe thead th {\n",
       "        text-align: right;\n",
       "    }\n",
       "</style>\n",
       "<table border=\"1\" class=\"dataframe\">\n",
       "  <thead>\n",
       "    <tr style=\"text-align: right;\">\n",
       "      <th></th>\n",
       "      <th>198613</th>\n",
       "      <th>198614</th>\n",
       "      <th>198615</th>\n",
       "      <th>198616</th>\n",
       "      <th>198617</th>\n",
       "    </tr>\n",
       "  </thead>\n",
       "  <tbody>\n",
       "    <tr>\n",
       "      <th>competitorid</th>\n",
       "      <td>158264</td>\n",
       "      <td>153604</td>\n",
       "      <td>514502</td>\n",
       "      <td>81616</td>\n",
       "      <td>469656</td>\n",
       "    </tr>\n",
       "    <tr>\n",
       "      <th>competitorname</th>\n",
       "      <td>Patrick Vellner</td>\n",
       "      <td>Mathew Fraser</td>\n",
       "      <td>Lefteris Theofanidis</td>\n",
       "      <td>Björgvin Karl Guðmundsson</td>\n",
       "      <td>Jeffrey Adler</td>\n",
       "    </tr>\n",
       "    <tr>\n",
       "      <th>firstname</th>\n",
       "      <td>Patrick</td>\n",
       "      <td>Mathew</td>\n",
       "      <td>Lefteris</td>\n",
       "      <td>Björgvin Karl</td>\n",
       "      <td>Jeffrey</td>\n",
       "    </tr>\n",
       "    <tr>\n",
       "      <th>lastname</th>\n",
       "      <td>Vellner</td>\n",
       "      <td>Fraser</td>\n",
       "      <td>Theofanidis</td>\n",
       "      <td>Guðmundsson</td>\n",
       "      <td>Adler</td>\n",
       "    </tr>\n",
       "    <tr>\n",
       "      <th>postcompstatus</th>\n",
       "      <td>accepted</td>\n",
       "      <td>accepted</td>\n",
       "      <td>accepted</td>\n",
       "      <td>accepted</td>\n",
       "      <td>accepted</td>\n",
       "    </tr>\n",
       "    <tr>\n",
       "      <th>gender</th>\n",
       "      <td>M</td>\n",
       "      <td>M</td>\n",
       "      <td>M</td>\n",
       "      <td>M</td>\n",
       "      <td>M</td>\n",
       "    </tr>\n",
       "    <tr>\n",
       "      <th>profilepics3key</th>\n",
       "      <td>d471c-P158264_7-184.jpg</td>\n",
       "      <td>9e218-P153604_4-184.jpg</td>\n",
       "      <td>931eb-P514502_2-184.jpg</td>\n",
       "      <td>4c5dc-P81616_4-184.jpg</td>\n",
       "      <td>e480e-P469656_1-184.jpg</td>\n",
       "    </tr>\n",
       "    <tr>\n",
       "      <th>countryoforigincode</th>\n",
       "      <td>CA</td>\n",
       "      <td>US</td>\n",
       "      <td>GR</td>\n",
       "      <td>IS</td>\n",
       "      <td>CA</td>\n",
       "    </tr>\n",
       "    <tr>\n",
       "      <th>countryoforiginname</th>\n",
       "      <td>Canada</td>\n",
       "      <td>United States</td>\n",
       "      <td>Greece</td>\n",
       "      <td>Iceland</td>\n",
       "      <td>Canada</td>\n",
       "    </tr>\n",
       "    <tr>\n",
       "      <th>divisionid</th>\n",
       "      <td>1</td>\n",
       "      <td>1</td>\n",
       "      <td>1</td>\n",
       "      <td>1</td>\n",
       "      <td>1</td>\n",
       "    </tr>\n",
       "    <tr>\n",
       "      <th>affiliateid</th>\n",
       "      <td>1918</td>\n",
       "      <td>3220</td>\n",
       "      <td>0</td>\n",
       "      <td>4860</td>\n",
       "      <td>18059</td>\n",
       "    </tr>\n",
       "    <tr>\n",
       "      <th>affiliatename</th>\n",
       "      <td>CrossFit Nanaimo</td>\n",
       "      <td>CrossFit Mayhem</td>\n",
       "      <td>NaN</td>\n",
       "      <td>CrossFit Hengill</td>\n",
       "      <td>CrossFit Wonderland</td>\n",
       "    </tr>\n",
       "    <tr>\n",
       "      <th>age</th>\n",
       "      <td>30</td>\n",
       "      <td>30</td>\n",
       "      <td>30</td>\n",
       "      <td>27</td>\n",
       "      <td>26</td>\n",
       "    </tr>\n",
       "    <tr>\n",
       "      <th>height</th>\n",
       "      <td>1.8</td>\n",
       "      <td>1.7</td>\n",
       "      <td>1.71</td>\n",
       "      <td>1.78</td>\n",
       "      <td>1.75</td>\n",
       "    </tr>\n",
       "    <tr>\n",
       "      <th>weight</th>\n",
       "      <td>88.45</td>\n",
       "      <td>88.45</td>\n",
       "      <td>81.0</td>\n",
       "      <td>83.91</td>\n",
       "      <td>89.36</td>\n",
       "    </tr>\n",
       "    <tr>\n",
       "      <th>overallrank</th>\n",
       "      <td>1</td>\n",
       "      <td>2</td>\n",
       "      <td>3</td>\n",
       "      <td>4</td>\n",
       "      <td>5</td>\n",
       "    </tr>\n",
       "    <tr>\n",
       "      <th>overallscore</th>\n",
       "      <td>64</td>\n",
       "      <td>74</td>\n",
       "      <td>94</td>\n",
       "      <td>97</td>\n",
       "      <td>100</td>\n",
       "    </tr>\n",
       "    <tr>\n",
       "      <th>is_scaled</th>\n",
       "      <td>0</td>\n",
       "      <td>0</td>\n",
       "      <td>0</td>\n",
       "      <td>0</td>\n",
       "      <td>0</td>\n",
       "    </tr>\n",
       "    <tr>\n",
       "      <th>division</th>\n",
       "      <td>Men</td>\n",
       "      <td>Men</td>\n",
       "      <td>Men</td>\n",
       "      <td>Men</td>\n",
       "      <td>Men</td>\n",
       "    </tr>\n",
       "  </tbody>\n",
       "</table>\n",
       "</div>"
      ],
      "text/plain": [
       "                                      198613                   198614  \\\n",
       "competitorid                          158264                   153604   \n",
       "competitorname               Patrick Vellner            Mathew Fraser   \n",
       "firstname                            Patrick                   Mathew   \n",
       "lastname                             Vellner                   Fraser   \n",
       "postcompstatus                      accepted                 accepted   \n",
       "gender                                     M                        M   \n",
       "profilepics3key      d471c-P158264_7-184.jpg  9e218-P153604_4-184.jpg   \n",
       "countryoforigincode                       CA                       US   \n",
       "countryoforiginname                   Canada            United States   \n",
       "divisionid                                 1                        1   \n",
       "affiliateid                             1918                     3220   \n",
       "affiliatename               CrossFit Nanaimo          CrossFit Mayhem   \n",
       "age                                       30                       30   \n",
       "height                                   1.8                      1.7   \n",
       "weight                                 88.45                    88.45   \n",
       "overallrank                                1                        2   \n",
       "overallscore                              64                       74   \n",
       "is_scaled                                  0                        0   \n",
       "division                                 Men                      Men   \n",
       "\n",
       "                                      198615                     198616  \\\n",
       "competitorid                          514502                      81616   \n",
       "competitorname          Lefteris Theofanidis  Björgvin Karl Guðmundsson   \n",
       "firstname                           Lefteris              Björgvin Karl   \n",
       "lastname                         Theofanidis                Guðmundsson   \n",
       "postcompstatus                      accepted                   accepted   \n",
       "gender                                     M                          M   \n",
       "profilepics3key      931eb-P514502_2-184.jpg     4c5dc-P81616_4-184.jpg   \n",
       "countryoforigincode                       GR                         IS   \n",
       "countryoforiginname                   Greece                    Iceland   \n",
       "divisionid                                 1                          1   \n",
       "affiliateid                                0                       4860   \n",
       "affiliatename                            NaN           CrossFit Hengill   \n",
       "age                                       30                         27   \n",
       "height                                  1.71                       1.78   \n",
       "weight                                  81.0                      83.91   \n",
       "overallrank                                3                          4   \n",
       "overallscore                              94                         97   \n",
       "is_scaled                                  0                          0   \n",
       "division                                 Men                        Men   \n",
       "\n",
       "                                      198617  \n",
       "competitorid                          469656  \n",
       "competitorname                 Jeffrey Adler  \n",
       "firstname                            Jeffrey  \n",
       "lastname                               Adler  \n",
       "postcompstatus                      accepted  \n",
       "gender                                     M  \n",
       "profilepics3key      e480e-P469656_1-184.jpg  \n",
       "countryoforigincode                       CA  \n",
       "countryoforiginname                   Canada  \n",
       "divisionid                                 1  \n",
       "affiliateid                            18059  \n",
       "affiliatename            CrossFit Wonderland  \n",
       "age                                       26  \n",
       "height                                  1.75  \n",
       "weight                                 89.36  \n",
       "overallrank                                5  \n",
       "overallscore                             100  \n",
       "is_scaled                                  0  \n",
       "division                                 Men  "
      ]
     },
     "execution_count": 16,
     "metadata": {},
     "output_type": "execute_result"
    }
   ],
   "source": [
    "DF_MenRx.head(5).transpose() # Show DF for men in Rx division "
   ]
  },
  {
   "cell_type": "code",
   "execution_count": 17,
   "id": "5258ab74-c2fc-4d92-9e54-e854036dad66",
   "metadata": {
    "tags": []
   },
   "outputs": [
    {
     "name": "stdout",
     "output_type": "stream",
     "text": [
      "<class 'pandas.core.frame.DataFrame'>\n",
      "Int64Index: 68836 entries, 198613 to 332484\n",
      "Data columns (total 19 columns):\n",
      " #   Column               Non-Null Count  Dtype  \n",
      "---  ------               --------------  -----  \n",
      " 0   competitorid         68836 non-null  int64  \n",
      " 1   competitorname       68836 non-null  object \n",
      " 2   firstname            68836 non-null  object \n",
      " 3   lastname             68836 non-null  object \n",
      " 4   postcompstatus       134 non-null    object \n",
      " 5   gender               68836 non-null  object \n",
      " 6   profilepics3key      68836 non-null  object \n",
      " 7   countryoforigincode  68792 non-null  object \n",
      " 8   countryoforiginname  68836 non-null  object \n",
      " 9   divisionid           68836 non-null  int64  \n",
      " 10  affiliateid          68836 non-null  int64  \n",
      " 11  affiliatename        63557 non-null  object \n",
      " 12  age                  68836 non-null  int64  \n",
      " 13  height               40852 non-null  float64\n",
      " 14  weight               43229 non-null  float64\n",
      " 15  overallrank          68836 non-null  int64  \n",
      " 16  overallscore         68836 non-null  int64  \n",
      " 17  is_scaled            68836 non-null  int64  \n",
      " 18  division             68836 non-null  object \n",
      "dtypes: float64(2), int64(7), object(10)\n",
      "memory usage: 10.5+ MB\n"
     ]
    }
   ],
   "source": [
    "DF_MenRx.info() # General info about data in DF_MenRx DF"
   ]
  },
  {
   "cell_type": "markdown",
   "id": "2e3d7288-11de-4c1a-b600-c9af5e487048",
   "metadata": {},
   "source": [
    "Some data missing on height and weight. (Competitor personal data)"
   ]
  },
  {
   "cell_type": "markdown",
   "id": "4a5c5979-6b34-4b27-8333-d4130f29cfb1",
   "metadata": {},
   "source": [
    "## Men age"
   ]
  },
  {
   "cell_type": "code",
   "execution_count": 19,
   "id": "52efdbc7-ce54-4472-81e1-574f7fc3ec5f",
   "metadata": {},
   "outputs": [
    {
     "data": {
      "text/plain": [
       "<AxesSubplot:title={'center':'Age Distribution'}, ylabel='Frequency'>"
      ]
     },
     "execution_count": 19,
     "metadata": {},
     "output_type": "execute_result"
    },
    {
     "data": {
      "image/png": "[encoded data removed]",
      "text/plain": [
       "<Figure size 432x288 with 1 Axes>"
      ]
     },
     "metadata": {
      "needs_background": "light"
     },
     "output_type": "display_data"
    }
   ],
   "source": [
    "DF_MenRx['age'].plot(kind = 'hist' , bins = 20, title = 'Age Distribution',xlabel = 'Age', ylabel = 'Frequency', grid = True)"
   ]
  },
  {
   "cell_type": "markdown",
   "id": "c47d67b2-e347-4dbf-8cd7-6412c80a55b0",
   "metadata": {},
   "source": [
    "Distribuition of Men´s age"
   ]
  },
  {
   "cell_type": "code",
   "execution_count": 21,
   "id": "b5489c01-1bdc-4d8d-94c6-9bcb47308911",
   "metadata": {},
   "outputs": [
    {
     "data": {
      "text/plain": [
       "<AxesSubplot:title={'center':'Age BoxPlot'}, ylabel='Age'>"
      ]
     },
     "execution_count": 21,
     "metadata": {},
     "output_type": "execute_result"
    },
    {
     "data": {
      "image/png": "[encoded data removed]",
      "text/plain": [
       "<Figure size 432x288 with 1 Axes>"
      ]
     },
     "metadata": {
      "needs_background": "light"
     },
     "output_type": "display_data"
    }
   ],
   "source": [
    "DF_MenRx['age'].plot(kind = 'box', grid = True, title = 'Age BoxPlot', ylabel = 'Age')"
   ]
  },
  {
   "cell_type": "markdown",
   "id": "372607dd-52d8-4e65-b808-fed491beb2a2",
   "metadata": {},
   "source": [
    "Box plot showing the min, max ,quartiles and mean."
   ]
  },
  {
   "cell_type": "markdown",
   "id": "46c85e68-d3fb-4baf-b1c9-18109cfec9fd",
   "metadata": {},
   "source": [
    "## Men country distribuition"
   ]
  },
  {
   "cell_type": "code",
   "execution_count": 22,
   "id": "4a776da4-9809-4e91-949e-88e6ff01bf58",
   "metadata": {},
   "outputs": [
    {
     "data": {
      "text/plain": [
       "<AxesSubplot:ylabel='Country'>"
      ]
     },
     "execution_count": 22,
     "metadata": {},
     "output_type": "execute_result"
    },
    {
     "data": {
      "image/png": "[encoded data removed]",
      "text/plain": [
       "<Figure size 432x288 with 1 Axes>"
      ]
     },
     "metadata": {
      "needs_background": "light"
     },
     "output_type": "display_data"
    }
   ],
   "source": [
    "DF_MenRx['countryoforiginname'].value_counts()[0:20].plot(kind = 'barh', ylabel = 'Country', grid = True, xticks = np.arange(0,30000,3000)) # Check top 10 countries in Games"
   ]
  },
  {
   "cell_type": "markdown",
   "id": "fec2a1bd-20b5-4442-9de1-76cffc9db172",
   "metadata": {},
   "source": [
    "Ruge amount of competitors from US when compared to another countries."
   ]
  },
  {
   "cell_type": "markdown",
   "id": "28e5365d-e308-44e9-bcde-74b7c1d18810",
   "metadata": {},
   "source": [
    "## Men height analysis"
   ]
  },
  {
   "cell_type": "code",
   "execution_count": 23,
   "id": "60ff68dd-283f-4f0e-8402-79b5b369d47c",
   "metadata": {},
   "outputs": [
    {
     "data": {
      "text/plain": [
       "<AxesSubplot:xlabel='competitorid', ylabel='height'>"
      ]
     },
     "execution_count": 23,
     "metadata": {},
     "output_type": "execute_result"
    },
    {
     "data": {
      "image/png": "[encoded data removed]",
      "text/plain": [
       "<Figure size 432x288 with 1 Axes>"
      ]
     },
     "metadata": {
      "needs_background": "light"
     },
     "output_type": "display_data"
    }
   ],
   "source": [
    "DF_MenRx.plot.scatter(x = 'competitorid', y = 'height', grid = True)"
   ]
  },
  {
   "cell_type": "markdown",
   "id": "f0c6a98e-6909-453f-a35e-87e7fe6b1588",
   "metadata": {},
   "source": [
    "Some outliers."
   ]
  },
  {
   "cell_type": "markdown",
   "id": "1f970817-d0ef-4bac-a4fc-5296a39ef302",
   "metadata": {},
   "source": [
    "**Restrict range of height to a more real spectrum.**"
   ]
  },
  {
   "cell_type": "code",
   "execution_count": 19,
   "id": "8ca15c33-64aa-4ab9-9481-346823d87bc1",
   "metadata": {},
   "outputs": [
    {
     "data": {
      "text/plain": [
       "(40303, 19)"
      ]
     },
     "execution_count": 19,
     "metadata": {},
     "output_type": "execute_result"
    }
   ],
   "source": [
    "DF_MenRx[(DF_MenRx['height'] > 1.4) & ((DF_MenRx['height'] < 2.3))].shape"
   ]
  },
  {
   "cell_type": "markdown",
   "id": "dcbb19f6-586f-4c26-94f9-b95672a40233",
   "metadata": {},
   "source": [
    "Lost of feel data points through this gross filter."
   ]
  },
  {
   "cell_type": "code",
   "execution_count": 26,
   "id": "33220c88-daa9-4ed3-bd79-7ce465a55d8d",
   "metadata": {},
   "outputs": [
    {
     "data": {
      "text/plain": [
       "<AxesSubplot:ylabel='Height'>"
      ]
     },
     "execution_count": 26,
     "metadata": {},
     "output_type": "execute_result"
    },
    {
     "data": {
      "image/png": "[encoded data removed]",
      "text/plain": [
       "<Figure size 432x288 with 1 Axes>"
      ]
     },
     "metadata": {
      "needs_background": "light"
     },
     "output_type": "display_data"
    }
   ],
   "source": [
    "DF_MenRx[(DF_MenRx['height'] > 1.4) & ((DF_MenRx['height'] < 2.3))]['height'].plot(kind = 'box', grid = True, ylabel = 'Height')"
   ]
  },
  {
   "cell_type": "markdown",
   "id": "71f168fc-aac7-4ea5-9ce1-eaf7f636de4e",
   "metadata": {},
   "source": [
    "## Men weight analysis"
   ]
  },
  {
   "cell_type": "code",
   "execution_count": 27,
   "id": "3c083c64-dbc0-4485-adf9-ffbe40cab8f0",
   "metadata": {},
   "outputs": [
    {
     "data": {
      "text/plain": [
       "<AxesSubplot:xlabel='competitorid', ylabel='weight'>"
      ]
     },
     "execution_count": 27,
     "metadata": {},
     "output_type": "execute_result"
    },
    {
     "data": {
      "image/png": "[encoded data removed]",
      "text/plain": [
       "<Figure size 432x288 with 1 Axes>"
      ]
     },
     "metadata": {
      "needs_background": "light"
     },
     "output_type": "display_data"
    }
   ],
   "source": [
    "DF_MenRx.plot.scatter(x = 'competitorid', y = 'weight', grid = True)"
   ]
  },
  {
   "cell_type": "markdown",
   "id": "e50fa8d6-235b-46fc-bd49-1158271f481f",
   "metadata": {},
   "source": [
    "Some outliers"
   ]
  },
  {
   "cell_type": "markdown",
   "id": "29cfb04c-a3fb-4f1e-8a38-4b6f0229f1bd",
   "metadata": {},
   "source": [
    "**Restrict range of weight to a more real spectrum**"
   ]
  },
  {
   "cell_type": "code",
   "execution_count": 28,
   "id": "595790a9-ada6-426f-ab2c-f3b8564e93ca",
   "metadata": {},
   "outputs": [
    {
     "data": {
      "text/plain": [
       "(42565, 19)"
      ]
     },
     "execution_count": 28,
     "metadata": {},
     "output_type": "execute_result"
    }
   ],
   "source": [
    "DF_MenRx[(DF_MenRx['weight'] < 120) & (DF_MenRx['weight'] > 50)].shape"
   ]
  },
  {
   "cell_type": "code",
   "execution_count": 29,
   "id": "6fe55b98-8920-46d9-811f-5f65e5e21c1b",
   "metadata": {},
   "outputs": [
    {
     "data": {
      "text/plain": [
       "<AxesSubplot:>"
      ]
     },
     "execution_count": 29,
     "metadata": {},
     "output_type": "execute_result"
    },
    {
     "data": {
      "image/png": "[encoded data removed]",
      "text/plain": [
       "<Figure size 432x288 with 1 Axes>"
      ]
     },
     "metadata": {
      "needs_background": "light"
     },
     "output_type": "display_data"
    }
   ],
   "source": [
    "DF_MenRx[(DF_MenRx['weight'] < 120) & (DF_MenRx['weight'] > 50)]['weight'].plot(kind = 'box', grid = True)"
   ]
  },
  {
   "cell_type": "markdown",
   "id": "6b76b969-ac09-4a50-a507-686c589c98c4",
   "metadata": {},
   "source": [
    "## Import data from '2020_opens_scores.csv'\n",
    "\n",
    "Dataset of atlhetes score"
   ]
  },
  {
   "cell_type": "code",
   "execution_count": 30,
   "id": "94a1bcdf-fe2e-4817-9e24-3f858a632dba",
   "metadata": {},
   "outputs": [],
   "source": [
    "DF_OpenS = pd.read_csv('2020_opens_scores.csv')"
   ]
  },
  {
   "cell_type": "markdown",
   "id": "e36c2e04-73ca-4120-aaaa-5d98cf6df066",
   "metadata": {},
   "source": [
    "### Check data "
   ]
  },
  {
   "cell_type": "code",
   "execution_count": 31,
   "id": "d2c19712-49ad-4e07-8588-6ade7d9a795a",
   "metadata": {},
   "outputs": [
    {
     "data": {
      "text/html": [
       "<div>\n",
       "<style scoped>\n",
       "    .dataframe tbody tr th:only-of-type {\n",
       "        vertical-align: middle;\n",
       "    }\n",
       "\n",
       "    .dataframe tbody tr th {\n",
       "        vertical-align: top;\n",
       "    }\n",
       "\n",
       "    .dataframe thead th {\n",
       "        text-align: right;\n",
       "    }\n",
       "</style>\n",
       "<table border=\"1\" class=\"dataframe\">\n",
       "  <thead>\n",
       "    <tr style=\"text-align: right;\">\n",
       "      <th></th>\n",
       "      <th>0</th>\n",
       "      <th>1</th>\n",
       "      <th>2</th>\n",
       "      <th>3</th>\n",
       "      <th>4</th>\n",
       "    </tr>\n",
       "  </thead>\n",
       "  <tbody>\n",
       "    <tr>\n",
       "      <th>affiliate</th>\n",
       "      <td>CrossFit Sunninghill</td>\n",
       "      <td>CrossFit Sunninghill</td>\n",
       "      <td>CrossFit Sunninghill</td>\n",
       "      <td>CrossFit Sunninghill</td>\n",
       "      <td>CrossFit Sunninghill</td>\n",
       "    </tr>\n",
       "    <tr>\n",
       "      <th>breakdown</th>\n",
       "      <td>10 rounds</td>\n",
       "      <td>27 rounds +\\n3 thrusters\\n</td>\n",
       "      <td>165 reps</td>\n",
       "      <td>240 reps</td>\n",
       "      <td>240 reps</td>\n",
       "    </tr>\n",
       "    <tr>\n",
       "      <th>competitorid</th>\n",
       "      <td>120333</td>\n",
       "      <td>120333</td>\n",
       "      <td>120333</td>\n",
       "      <td>120333</td>\n",
       "      <td>120333</td>\n",
       "    </tr>\n",
       "    <tr>\n",
       "      <th>division</th>\n",
       "      <td>Men (35-39)</td>\n",
       "      <td>Men (35-39)</td>\n",
       "      <td>Men (35-39)</td>\n",
       "      <td>Men (35-39)</td>\n",
       "      <td>Men (35-39)</td>\n",
       "    </tr>\n",
       "    <tr>\n",
       "      <th>is_scaled</th>\n",
       "      <td>0</td>\n",
       "      <td>0</td>\n",
       "      <td>0</td>\n",
       "      <td>0</td>\n",
       "      <td>0</td>\n",
       "    </tr>\n",
       "    <tr>\n",
       "      <th>judge</th>\n",
       "      <td>Richard Smith</td>\n",
       "      <td>Richard Smith</td>\n",
       "      <td>Richard Smith</td>\n",
       "      <td>Richard Smith</td>\n",
       "      <td>Richard Smith</td>\n",
       "    </tr>\n",
       "    <tr>\n",
       "      <th>ordinal</th>\n",
       "      <td>1</td>\n",
       "      <td>2</td>\n",
       "      <td>3</td>\n",
       "      <td>4</td>\n",
       "      <td>5</td>\n",
       "    </tr>\n",
       "    <tr>\n",
       "      <th>rank</th>\n",
       "      <td>12</td>\n",
       "      <td>2</td>\n",
       "      <td>9</td>\n",
       "      <td>1</td>\n",
       "      <td>1</td>\n",
       "    </tr>\n",
       "    <tr>\n",
       "      <th>scaled</th>\n",
       "      <td>0</td>\n",
       "      <td>0</td>\n",
       "      <td>0</td>\n",
       "      <td>0</td>\n",
       "      <td>0</td>\n",
       "    </tr>\n",
       "    <tr>\n",
       "      <th>score</th>\n",
       "      <td>11800316</td>\n",
       "      <td>1009210000</td>\n",
       "      <td>1001650034</td>\n",
       "      <td>1002400162</td>\n",
       "      <td>1002400562</td>\n",
       "    </tr>\n",
       "    <tr>\n",
       "      <th>scoredisplay</th>\n",
       "      <td>9:44</td>\n",
       "      <td>921 reps</td>\n",
       "      <td>8:26</td>\n",
       "      <td>17:18</td>\n",
       "      <td>10:38</td>\n",
       "    </tr>\n",
       "    <tr>\n",
       "      <th>scoreidentifier</th>\n",
       "      <td>04faacabaa22dbaecf0d</td>\n",
       "      <td>29b2a385245a6cb5ae6f</td>\n",
       "      <td>511ec1cf441b5ac48947</td>\n",
       "      <td>3ba8f44249d3d8afe545</td>\n",
       "      <td>9de1c00eeda10ff3f39f</td>\n",
       "    </tr>\n",
       "    <tr>\n",
       "      <th>time</th>\n",
       "      <td>584.0</td>\n",
       "      <td>NaN</td>\n",
       "      <td>506.0</td>\n",
       "      <td>1038.0</td>\n",
       "      <td>638.0</td>\n",
       "    </tr>\n",
       "  </tbody>\n",
       "</table>\n",
       "</div>"
      ],
      "text/plain": [
       "                                    0                           1  \\\n",
       "affiliate        CrossFit Sunninghill        CrossFit Sunninghill   \n",
       "breakdown                   10 rounds  27 rounds +\\n3 thrusters\\n   \n",
       "competitorid                   120333                      120333   \n",
       "division                  Men (35-39)                 Men (35-39)   \n",
       "is_scaled                           0                           0   \n",
       "judge                   Richard Smith               Richard Smith   \n",
       "ordinal                             1                           2   \n",
       "rank                               12                           2   \n",
       "scaled                              0                           0   \n",
       "score                        11800316                  1009210000   \n",
       "scoredisplay                     9:44                    921 reps   \n",
       "scoreidentifier  04faacabaa22dbaecf0d        29b2a385245a6cb5ae6f   \n",
       "time                            584.0                         NaN   \n",
       "\n",
       "                                    2                     3  \\\n",
       "affiliate        CrossFit Sunninghill  CrossFit Sunninghill   \n",
       "breakdown                    165 reps              240 reps   \n",
       "competitorid                   120333                120333   \n",
       "division                  Men (35-39)           Men (35-39)   \n",
       "is_scaled                           0                     0   \n",
       "judge                   Richard Smith         Richard Smith   \n",
       "ordinal                             3                     4   \n",
       "rank                                9                     1   \n",
       "scaled                              0                     0   \n",
       "score                      1001650034            1002400162   \n",
       "scoredisplay                     8:26                 17:18   \n",
       "scoreidentifier  511ec1cf441b5ac48947  3ba8f44249d3d8afe545   \n",
       "time                            506.0                1038.0   \n",
       "\n",
       "                                    4  \n",
       "affiliate        CrossFit Sunninghill  \n",
       "breakdown                    240 reps  \n",
       "competitorid                   120333  \n",
       "division                  Men (35-39)  \n",
       "is_scaled                           0  \n",
       "judge                   Richard Smith  \n",
       "ordinal                             5  \n",
       "rank                                1  \n",
       "scaled                              0  \n",
       "score                      1002400562  \n",
       "scoredisplay                    10:38  \n",
       "scoreidentifier  9de1c00eeda10ff3f39f  \n",
       "time                            638.0  "
      ]
     },
     "execution_count": 31,
     "metadata": {},
     "output_type": "execute_result"
    }
   ],
   "source": [
    "DF_OpenS.head(5).transpose()"
   ]
  },
  {
   "cell_type": "markdown",
   "id": "1d142649-1fbb-46ed-8ae4-b9e28e19bf41",
   "metadata": {},
   "source": [
    "## Merge DF_MenRx and DF_OpenS"
   ]
  },
  {
   "cell_type": "code",
   "execution_count": 32,
   "id": "68710c45-6f2d-4b5a-ab5d-c6cccbe4e258",
   "metadata": {},
   "outputs": [],
   "source": [
    "DF_MenScore = pd.merge(DF_MenRx[['competitorid','competitorname','gender','divisionid','age','height','weight','overallrank']], DF_OpenS, on = 'competitorid')"
   ]
  },
  {
   "cell_type": "code",
   "execution_count": 33,
   "id": "769abf32-8dcc-4722-a834-9f5539e7e2db",
   "metadata": {},
   "outputs": [
    {
     "name": "stdout",
     "output_type": "stream",
     "text": [
      "<class 'pandas.core.frame.DataFrame'>\n",
      "Int64Index: 372150 entries, 0 to 372149\n",
      "Data columns (total 20 columns):\n",
      " #   Column           Non-Null Count   Dtype  \n",
      "---  ------           --------------   -----  \n",
      " 0   competitorid     372150 non-null  int64  \n",
      " 1   competitorname   372150 non-null  object \n",
      " 2   gender           372150 non-null  object \n",
      " 3   divisionid       372150 non-null  int64  \n",
      " 4   age              372150 non-null  int64  \n",
      " 5   height           214765 non-null  float64\n",
      " 6   weight           226935 non-null  float64\n",
      " 7   overallrank      372150 non-null  int64  \n",
      " 8   affiliate        285307 non-null  object \n",
      " 9   breakdown        302831 non-null  object \n",
      " 10  division         372150 non-null  object \n",
      " 11  is_scaled        372150 non-null  int64  \n",
      " 12  judge            285296 non-null  object \n",
      " 13  ordinal          372150 non-null  int64  \n",
      " 14  rank             372150 non-null  int64  \n",
      " 15  scaled           372150 non-null  int64  \n",
      " 16  score            372150 non-null  int64  \n",
      " 17  scoredisplay     302831 non-null  object \n",
      " 18  scoreidentifier  302831 non-null  object \n",
      " 19  time             238916 non-null  float64\n",
      "dtypes: float64(3), int64(9), object(8)\n",
      "memory usage: 59.6+ MB\n"
     ]
    }
   ],
   "source": [
    "DF_MenScore.info()"
   ]
  },
  {
   "cell_type": "markdown",
   "id": "2e634652-f315-4a0b-b741-4d44dd4c079a",
   "metadata": {},
   "source": [
    "### Event 1 Analysis\n",
    "\n",
    "10 rounds for time of:\n",
    "\n",
    "8 ground-to-overheads  @95 lb. \n",
    "\n",
    "10 bar-facing burpees\n",
    "\n",
    "Time cap: 15 minutes"
   ]
  },
  {
   "cell_type": "code",
   "execution_count": 35,
   "id": "78bca7a9-b927-424c-a4ab-a23f952f599f",
   "metadata": {},
   "outputs": [],
   "source": [
    "Event1 = DF_MenScore[(DF_MenScore['ordinal'] == 1) & (DF_MenScore['scaled'] == 0)] # Filter merged DF data of event 1 and not scaled competitors"
   ]
  },
  {
   "cell_type": "code",
   "execution_count": 37,
   "id": "7095a7ef-6188-40cb-886e-70df950a46b7",
   "metadata": {},
   "outputs": [
    {
     "data": {
      "text/html": [
       "<div>\n",
       "<style scoped>\n",
       "    .dataframe tbody tr th:only-of-type {\n",
       "        vertical-align: middle;\n",
       "    }\n",
       "\n",
       "    .dataframe tbody tr th {\n",
       "        vertical-align: top;\n",
       "    }\n",
       "\n",
       "    .dataframe thead th {\n",
       "        text-align: right;\n",
       "    }\n",
       "</style>\n",
       "<table border=\"1\" class=\"dataframe\">\n",
       "  <thead>\n",
       "    <tr style=\"text-align: right;\">\n",
       "      <th></th>\n",
       "      <th>10</th>\n",
       "      <th>15</th>\n",
       "      <th>50</th>\n",
       "      <th>195</th>\n",
       "      <th>405</th>\n",
       "    </tr>\n",
       "  </thead>\n",
       "  <tbody>\n",
       "    <tr>\n",
       "      <th>competitorid</th>\n",
       "      <td>514502</td>\n",
       "      <td>81616</td>\n",
       "      <td>173837</td>\n",
       "      <td>6122</td>\n",
       "      <td>93473</td>\n",
       "    </tr>\n",
       "    <tr>\n",
       "      <th>competitorname</th>\n",
       "      <td>Lefteris Theofanidis</td>\n",
       "      <td>Björgvin Karl Guðmundsson</td>\n",
       "      <td>Jonne Koski</td>\n",
       "      <td>Christian Lucero</td>\n",
       "      <td>Josh Miller</td>\n",
       "    </tr>\n",
       "    <tr>\n",
       "      <th>gender</th>\n",
       "      <td>M</td>\n",
       "      <td>M</td>\n",
       "      <td>M</td>\n",
       "      <td>M</td>\n",
       "      <td>M</td>\n",
       "    </tr>\n",
       "    <tr>\n",
       "      <th>divisionid</th>\n",
       "      <td>1</td>\n",
       "      <td>1</td>\n",
       "      <td>1</td>\n",
       "      <td>1</td>\n",
       "      <td>1</td>\n",
       "    </tr>\n",
       "    <tr>\n",
       "      <th>age</th>\n",
       "      <td>30</td>\n",
       "      <td>27</td>\n",
       "      <td>25</td>\n",
       "      <td>27</td>\n",
       "      <td>31</td>\n",
       "    </tr>\n",
       "    <tr>\n",
       "      <th>height</th>\n",
       "      <td>1.71</td>\n",
       "      <td>1.78</td>\n",
       "      <td>1.71</td>\n",
       "      <td>1.75</td>\n",
       "      <td>1.75</td>\n",
       "    </tr>\n",
       "    <tr>\n",
       "      <th>weight</th>\n",
       "      <td>81.0</td>\n",
       "      <td>83.91</td>\n",
       "      <td>83.91</td>\n",
       "      <td>86.64</td>\n",
       "      <td>86.18</td>\n",
       "    </tr>\n",
       "    <tr>\n",
       "      <th>overallrank</th>\n",
       "      <td>3</td>\n",
       "      <td>4</td>\n",
       "      <td>11</td>\n",
       "      <td>40</td>\n",
       "      <td>83</td>\n",
       "    </tr>\n",
       "    <tr>\n",
       "      <th>affiliate</th>\n",
       "      <td>NaN</td>\n",
       "      <td>CrossFit Reykjavík</td>\n",
       "      <td>CrossFit Kreis 9</td>\n",
       "      <td>CrossFit Costa Mesa</td>\n",
       "      <td>CrossFit Crash</td>\n",
       "    </tr>\n",
       "    <tr>\n",
       "      <th>breakdown</th>\n",
       "      <td>10 rounds</td>\n",
       "      <td>10 rounds</td>\n",
       "      <td>10 rounds</td>\n",
       "      <td>10 rounds</td>\n",
       "      <td>10 rounds</td>\n",
       "    </tr>\n",
       "    <tr>\n",
       "      <th>division</th>\n",
       "      <td>Men</td>\n",
       "      <td>Men</td>\n",
       "      <td>Men</td>\n",
       "      <td>Men</td>\n",
       "      <td>Men</td>\n",
       "    </tr>\n",
       "    <tr>\n",
       "      <th>is_scaled</th>\n",
       "      <td>0</td>\n",
       "      <td>0</td>\n",
       "      <td>0</td>\n",
       "      <td>0</td>\n",
       "      <td>0</td>\n",
       "    </tr>\n",
       "    <tr>\n",
       "      <th>judge</th>\n",
       "      <td>NaN</td>\n",
       "      <td>Throstur Olason</td>\n",
       "      <td>Emilia Leppanen</td>\n",
       "      <td>Maximilian Mormont</td>\n",
       "      <td>Jamie Miller</td>\n",
       "    </tr>\n",
       "    <tr>\n",
       "      <th>ordinal</th>\n",
       "      <td>1</td>\n",
       "      <td>1</td>\n",
       "      <td>1</td>\n",
       "      <td>1</td>\n",
       "      <td>1</td>\n",
       "    </tr>\n",
       "    <tr>\n",
       "      <th>rank</th>\n",
       "      <td>1</td>\n",
       "      <td>2</td>\n",
       "      <td>3</td>\n",
       "      <td>3</td>\n",
       "      <td>5</td>\n",
       "    </tr>\n",
       "    <tr>\n",
       "      <th>scaled</th>\n",
       "      <td>0</td>\n",
       "      <td>0</td>\n",
       "      <td>0</td>\n",
       "      <td>0</td>\n",
       "      <td>0</td>\n",
       "    </tr>\n",
       "    <tr>\n",
       "      <th>score</th>\n",
       "      <td>11800415</td>\n",
       "      <td>11800404</td>\n",
       "      <td>11800402</td>\n",
       "      <td>11800402</td>\n",
       "      <td>11800401</td>\n",
       "    </tr>\n",
       "    <tr>\n",
       "      <th>scoredisplay</th>\n",
       "      <td>8:05</td>\n",
       "      <td>8:16</td>\n",
       "      <td>8:18</td>\n",
       "      <td>8:18</td>\n",
       "      <td>8:19</td>\n",
       "    </tr>\n",
       "    <tr>\n",
       "      <th>scoreidentifier</th>\n",
       "      <td>c8907e02512f42ff3142</td>\n",
       "      <td>f95875103f88ecbe0478</td>\n",
       "      <td>b8a06b39b71c6bfe444e</td>\n",
       "      <td>2ccf83214eb230eb23f3</td>\n",
       "      <td>ea0c779d470407e6dc09</td>\n",
       "    </tr>\n",
       "    <tr>\n",
       "      <th>time</th>\n",
       "      <td>485.0</td>\n",
       "      <td>496.0</td>\n",
       "      <td>498.0</td>\n",
       "      <td>498.0</td>\n",
       "      <td>499.0</td>\n",
       "    </tr>\n",
       "  </tbody>\n",
       "</table>\n",
       "</div>"
      ],
      "text/plain": [
       "                                  10                         15   \\\n",
       "competitorid                   514502                      81616   \n",
       "competitorname   Lefteris Theofanidis  Björgvin Karl Guðmundsson   \n",
       "gender                              M                          M   \n",
       "divisionid                          1                          1   \n",
       "age                                30                         27   \n",
       "height                           1.71                       1.78   \n",
       "weight                           81.0                      83.91   \n",
       "overallrank                         3                          4   \n",
       "affiliate                         NaN         CrossFit Reykjavík   \n",
       "breakdown                   10 rounds                  10 rounds   \n",
       "division                          Men                        Men   \n",
       "is_scaled                           0                          0   \n",
       "judge                             NaN            Throstur Olason   \n",
       "ordinal                             1                          1   \n",
       "rank                                1                          2   \n",
       "scaled                              0                          0   \n",
       "score                        11800415                   11800404   \n",
       "scoredisplay                     8:05                       8:16   \n",
       "scoreidentifier  c8907e02512f42ff3142       f95875103f88ecbe0478   \n",
       "time                            485.0                      496.0   \n",
       "\n",
       "                                  50                    195  \\\n",
       "competitorid                   173837                  6122   \n",
       "competitorname            Jonne Koski      Christian Lucero   \n",
       "gender                              M                     M   \n",
       "divisionid                          1                     1   \n",
       "age                                25                    27   \n",
       "height                           1.71                  1.75   \n",
       "weight                          83.91                 86.64   \n",
       "overallrank                        11                    40   \n",
       "affiliate            CrossFit Kreis 9   CrossFit Costa Mesa   \n",
       "breakdown                   10 rounds             10 rounds   \n",
       "division                          Men                   Men   \n",
       "is_scaled                           0                     0   \n",
       "judge                 Emilia Leppanen    Maximilian Mormont   \n",
       "ordinal                             1                     1   \n",
       "rank                                3                     3   \n",
       "scaled                              0                     0   \n",
       "score                        11800402              11800402   \n",
       "scoredisplay                     8:18                  8:18   \n",
       "scoreidentifier  b8a06b39b71c6bfe444e  2ccf83214eb230eb23f3   \n",
       "time                            498.0                 498.0   \n",
       "\n",
       "                                  405  \n",
       "competitorid                    93473  \n",
       "competitorname            Josh Miller  \n",
       "gender                              M  \n",
       "divisionid                          1  \n",
       "age                                31  \n",
       "height                           1.75  \n",
       "weight                          86.18  \n",
       "overallrank                        83  \n",
       "affiliate              CrossFit Crash  \n",
       "breakdown                   10 rounds  \n",
       "division                          Men  \n",
       "is_scaled                           0  \n",
       "judge                    Jamie Miller  \n",
       "ordinal                             1  \n",
       "rank                                5  \n",
       "scaled                              0  \n",
       "score                        11800401  \n",
       "scoredisplay                     8:19  \n",
       "scoreidentifier  ea0c779d470407e6dc09  \n",
       "time                            499.0  "
      ]
     },
     "execution_count": 37,
     "metadata": {},
     "output_type": "execute_result"
    }
   ],
   "source": [
    "Event1.sort_values(by = ['rank']).head().transpose()"
   ]
  },
  {
   "cell_type": "code",
   "execution_count": 47,
   "id": "01626e2a-8bcf-4e7d-b93a-5efebfb2902c",
   "metadata": {},
   "outputs": [
    {
     "data": {
      "text/plain": [
       "<AxesSubplot:xlabel='rank', ylabel='time'>"
      ]
     },
     "execution_count": 47,
     "metadata": {},
     "output_type": "execute_result"
    },
    {
     "data": {
      "image/png": "[encoded data removed]",
      "text/plain": [
       "<Figure size 432x288 with 1 Axes>"
      ]
     },
     "metadata": {
      "needs_background": "light"
     },
     "output_type": "display_data"
    }
   ],
   "source": [
    "Event1[Event1['time'] < 15*60].plot.scatter(x = 'rank', y = 'time',grid = True , alpha = 0.3) # Results of competitors who finished in the time cap"
   ]
  },
  {
   "cell_type": "markdown",
   "id": "29c3b5e8-0976-45a7-9ad5-6a166fb515d7",
   "metadata": {},
   "source": [
    "Logaritimal distribuition of results"
   ]
  },
  {
   "cell_type": "code",
   "execution_count": 48,
   "id": "c02c58e7-dfce-4597-ba03-27f339b4aa1f",
   "metadata": {},
   "outputs": [],
   "source": [
    "def get_reps_event1(Breakdown): #Function to get number of reps for each competitor\n",
    "    Reps= 0\n",
    "    for Bk in Breakdown.strip().split('\\n'):\n",
    "        if 'rounds' in Bk:\n",
    "            NRounds = int(Bk.split(' ')[0])\n",
    "            Reps += NRounds*18\n",
    "        else:\n",
    "            Rep = int(Bk.split(' ')[0])\n",
    "            Reps += Rep\n",
    "    \n",
    "    return Reps"
   ]
  },
  {
   "cell_type": "code",
   "execution_count": 49,
   "id": "2eed4189-9727-4d09-b76f-a76601a75ef3",
   "metadata": {},
   "outputs": [],
   "source": [
    "Event1['reps_fun'] = Event1['breakdown'].dropna().apply(get_reps_event1) # Apply to DF"
   ]
  },
  {
   "cell_type": "code",
   "execution_count": 50,
   "id": "d8029325-21ed-4118-87f3-f607d66e9498",
   "metadata": {},
   "outputs": [
    {
     "data": {
      "text/plain": [
       "<AxesSubplot:xlabel='rank', ylabel='reps_fun'>"
      ]
     },
     "execution_count": 50,
     "metadata": {},
     "output_type": "execute_result"
    },
    {
     "data": {
      "image/png": "[encoded data removed]",
      "text/plain": [
       "<Figure size 432x288 with 1 Axes>"
      ]
     },
     "metadata": {
      "needs_background": "light"
     },
     "output_type": "display_data"
    }
   ],
   "source": [
    "Event1.plot.scatter(x = 'rank', y = 'reps_fun',grid = True , alpha = 0.3, cmap = 'viridis')"
   ]
  },
  {
   "cell_type": "code",
   "execution_count": 55,
   "id": "ccdaf055-768e-4b40-bf03-56364a3735db",
   "metadata": {},
   "outputs": [
    {
     "data": {
      "text/plain": [
       "<AxesSubplot:ylabel='age'>"
      ]
     },
     "execution_count": 55,
     "metadata": {},
     "output_type": "execute_result"
    },
    {
     "data": {
      "image/png": "[encoded data removed]",
      "text/plain": [
       "<Figure size 432x288 with 1 Axes>"
      ]
     },
     "metadata": {
      "needs_background": "light"
     },
     "output_type": "display_data"
    }
   ],
   "source": [
    "Event1[['age','reps_fun']].groupby(by = 'age').mean().plot(kind = 'barh', legend = False)"
   ]
  },
  {
   "cell_type": "code",
   "execution_count": 431,
   "id": "3394d36b-e73d-495a-87dc-f8453e83bf63",
   "metadata": {},
   "outputs": [
    {
     "data": {
      "text/plain": [
       "count    55865.000000\n",
       "mean       151.509335\n",
       "std         25.926915\n",
       "min          1.000000\n",
       "25%        134.000000\n",
       "50%        154.000000\n",
       "75%        180.000000\n",
       "max        180.000000\n",
       "Name: reps_fun, dtype: float64"
      ]
     },
     "execution_count": 431,
     "metadata": {},
     "output_type": "execute_result"
    }
   ],
   "source": [
    "Event1['reps_fun'].describe()"
   ]
  },
  {
   "cell_type": "markdown",
   "id": "9e649ee0-a4bf-492f-8dc5-1b229328954e",
   "metadata": {},
   "source": [
    "### Event 2 Analysis\n",
    "\n",
    "Complete as many rounds as possible in 20 minutes of:\n",
    "\n",
    "4 dumbbell thrusters\n",
    "\n",
    "6 toes-to-bars\n",
    "\n",
    "24 double-unders\n",
    "\n",
    "50-lb. dumbbells"
   ]
  },
  {
   "cell_type": "code",
   "execution_count": 58,
   "id": "c01a95cf-c83e-4564-a739-cce2a1c60e68",
   "metadata": {},
   "outputs": [],
   "source": [
    "Event2 = DF_MenScore[(DF_MenScore['ordinal'] == 2) & (DF_MenScore['scaled'] == 0)] "
   ]
  },
  {
   "cell_type": "code",
   "execution_count": 60,
   "id": "af6bbaec-aa0b-4d99-a0fd-0a022aafa565",
   "metadata": {},
   "outputs": [
    {
     "data": {
      "text/html": [
       "<div>\n",
       "<style scoped>\n",
       "    .dataframe tbody tr th:only-of-type {\n",
       "        vertical-align: middle;\n",
       "    }\n",
       "\n",
       "    .dataframe tbody tr th {\n",
       "        vertical-align: top;\n",
       "    }\n",
       "\n",
       "    .dataframe thead th {\n",
       "        text-align: right;\n",
       "    }\n",
       "</style>\n",
       "<table border=\"1\" class=\"dataframe\">\n",
       "  <thead>\n",
       "    <tr style=\"text-align: right;\">\n",
       "      <th></th>\n",
       "      <th>1311</th>\n",
       "      <th>2131</th>\n",
       "      <th>11</th>\n",
       "    </tr>\n",
       "  </thead>\n",
       "  <tbody>\n",
       "    <tr>\n",
       "      <th>competitorid</th>\n",
       "      <td>18543</td>\n",
       "      <td>485647</td>\n",
       "      <td>514502</td>\n",
       "    </tr>\n",
       "    <tr>\n",
       "      <th>competitorname</th>\n",
       "      <td>Frederik Aegidius</td>\n",
       "      <td>Derek Saltou</td>\n",
       "      <td>Lefteris Theofanidis</td>\n",
       "    </tr>\n",
       "    <tr>\n",
       "      <th>gender</th>\n",
       "      <td>M</td>\n",
       "      <td>M</td>\n",
       "      <td>M</td>\n",
       "    </tr>\n",
       "    <tr>\n",
       "      <th>divisionid</th>\n",
       "      <td>1</td>\n",
       "      <td>1</td>\n",
       "      <td>1</td>\n",
       "    </tr>\n",
       "    <tr>\n",
       "      <th>age</th>\n",
       "      <td>33</td>\n",
       "      <td>31</td>\n",
       "      <td>30</td>\n",
       "    </tr>\n",
       "    <tr>\n",
       "      <th>height</th>\n",
       "      <td>1.74</td>\n",
       "      <td>1.7</td>\n",
       "      <td>1.71</td>\n",
       "    </tr>\n",
       "    <tr>\n",
       "      <th>weight</th>\n",
       "      <td>84.0</td>\n",
       "      <td>77.11</td>\n",
       "      <td>81.0</td>\n",
       "    </tr>\n",
       "    <tr>\n",
       "      <th>overallrank</th>\n",
       "      <td>275</td>\n",
       "      <td>455</td>\n",
       "      <td>3</td>\n",
       "    </tr>\n",
       "    <tr>\n",
       "      <th>affiliate</th>\n",
       "      <td>CrossFit Reykjavík</td>\n",
       "      <td>CrossFit Chiron</td>\n",
       "      <td>NaN</td>\n",
       "    </tr>\n",
       "    <tr>\n",
       "      <th>breakdown</th>\n",
       "      <td>30 rounds +\\n4 thrusters\\n6 toes-to-bars\\n</td>\n",
       "      <td>30 rounds +\\n4 thrusters\\n4 toes-to-bars\\n</td>\n",
       "      <td>30 rounds +\\n1 thruster\\n</td>\n",
       "    </tr>\n",
       "    <tr>\n",
       "      <th>division</th>\n",
       "      <td>Men</td>\n",
       "      <td>Men</td>\n",
       "      <td>Men</td>\n",
       "    </tr>\n",
       "    <tr>\n",
       "      <th>is_scaled</th>\n",
       "      <td>0</td>\n",
       "      <td>0</td>\n",
       "      <td>0</td>\n",
       "    </tr>\n",
       "    <tr>\n",
       "      <th>judge</th>\n",
       "      <td>Annie Thorisdottir</td>\n",
       "      <td>Amy Schmitt</td>\n",
       "      <td>NaN</td>\n",
       "    </tr>\n",
       "    <tr>\n",
       "      <th>ordinal</th>\n",
       "      <td>2</td>\n",
       "      <td>2</td>\n",
       "      <td>2</td>\n",
       "    </tr>\n",
       "    <tr>\n",
       "      <th>rank</th>\n",
       "      <td>1</td>\n",
       "      <td>2</td>\n",
       "      <td>3</td>\n",
       "    </tr>\n",
       "    <tr>\n",
       "      <th>scaled</th>\n",
       "      <td>0</td>\n",
       "      <td>0</td>\n",
       "      <td>0</td>\n",
       "    </tr>\n",
       "    <tr>\n",
       "      <th>score</th>\n",
       "      <td>1010300000</td>\n",
       "      <td>1010280000</td>\n",
       "      <td>1010210000</td>\n",
       "    </tr>\n",
       "    <tr>\n",
       "      <th>scoredisplay</th>\n",
       "      <td>1030 reps</td>\n",
       "      <td>1028 reps</td>\n",
       "      <td>1021 reps</td>\n",
       "    </tr>\n",
       "    <tr>\n",
       "      <th>scoreidentifier</th>\n",
       "      <td>985d10b5a96e491a0a14</td>\n",
       "      <td>af0b893f3408f69af99e</td>\n",
       "      <td>63add31b22606957701c</td>\n",
       "    </tr>\n",
       "    <tr>\n",
       "      <th>time</th>\n",
       "      <td>NaN</td>\n",
       "      <td>NaN</td>\n",
       "      <td>NaN</td>\n",
       "    </tr>\n",
       "  </tbody>\n",
       "</table>\n",
       "</div>"
      ],
      "text/plain": [
       "                                                       1311  \\\n",
       "competitorid                                          18543   \n",
       "competitorname                            Frederik Aegidius   \n",
       "gender                                                    M   \n",
       "divisionid                                                1   \n",
       "age                                                      33   \n",
       "height                                                 1.74   \n",
       "weight                                                 84.0   \n",
       "overallrank                                             275   \n",
       "affiliate                                CrossFit Reykjavík   \n",
       "breakdown        30 rounds +\\n4 thrusters\\n6 toes-to-bars\\n   \n",
       "division                                                Men   \n",
       "is_scaled                                                 0   \n",
       "judge                                    Annie Thorisdottir   \n",
       "ordinal                                                   2   \n",
       "rank                                                      1   \n",
       "scaled                                                    0   \n",
       "score                                            1010300000   \n",
       "scoredisplay                                      1030 reps   \n",
       "scoreidentifier                        985d10b5a96e491a0a14   \n",
       "time                                                    NaN   \n",
       "\n",
       "                                                       2131  \\\n",
       "competitorid                                         485647   \n",
       "competitorname                                 Derek Saltou   \n",
       "gender                                                    M   \n",
       "divisionid                                                1   \n",
       "age                                                      31   \n",
       "height                                                  1.7   \n",
       "weight                                                77.11   \n",
       "overallrank                                             455   \n",
       "affiliate                                   CrossFit Chiron   \n",
       "breakdown        30 rounds +\\n4 thrusters\\n4 toes-to-bars\\n   \n",
       "division                                                Men   \n",
       "is_scaled                                                 0   \n",
       "judge                                           Amy Schmitt   \n",
       "ordinal                                                   2   \n",
       "rank                                                      2   \n",
       "scaled                                                    0   \n",
       "score                                            1010280000   \n",
       "scoredisplay                                      1028 reps   \n",
       "scoreidentifier                        af0b893f3408f69af99e   \n",
       "time                                                    NaN   \n",
       "\n",
       "                                      11    \n",
       "competitorid                        514502  \n",
       "competitorname        Lefteris Theofanidis  \n",
       "gender                                   M  \n",
       "divisionid                               1  \n",
       "age                                     30  \n",
       "height                                1.71  \n",
       "weight                                81.0  \n",
       "overallrank                              3  \n",
       "affiliate                              NaN  \n",
       "breakdown        30 rounds +\\n1 thruster\\n  \n",
       "division                               Men  \n",
       "is_scaled                                0  \n",
       "judge                                  NaN  \n",
       "ordinal                                  2  \n",
       "rank                                     3  \n",
       "scaled                                   0  \n",
       "score                           1010210000  \n",
       "scoredisplay                     1021 reps  \n",
       "scoreidentifier       63add31b22606957701c  \n",
       "time                                   NaN  "
      ]
     },
     "execution_count": 60,
     "metadata": {},
     "output_type": "execute_result"
    }
   ],
   "source": [
    "Event2.sort_values(by = ['rank']).head(3).transpose()"
   ]
  },
  {
   "cell_type": "code",
   "execution_count": 65,
   "id": "1f9e4517-d703-4d46-8531-b6d861c224d1",
   "metadata": {},
   "outputs": [],
   "source": [
    "Event2['reps'] = Event2['scoredisplay'].str.split(' ').str[0].dropna().astype('int')"
   ]
  },
  {
   "cell_type": "code",
   "execution_count": 66,
   "id": "ee3cd39b-f649-4ac9-a457-15933e76f8f1",
   "metadata": {},
   "outputs": [
    {
     "data": {
      "text/plain": [
       "count    49152.000000\n",
       "mean       485.934062\n",
       "std        163.187998\n",
       "min          1.000000\n",
       "25%        375.000000\n",
       "50%        485.000000\n",
       "75%        598.000000\n",
       "max       1030.000000\n",
       "Name: reps, dtype: float64"
      ]
     },
     "execution_count": 66,
     "metadata": {},
     "output_type": "execute_result"
    }
   ],
   "source": [
    "Event2['reps'].describe()"
   ]
  },
  {
   "cell_type": "code",
   "execution_count": 67,
   "id": "a6a45300-9322-4b90-aae6-9a8b8d98d7f1",
   "metadata": {},
   "outputs": [
    {
     "data": {
      "text/plain": [
       "<AxesSubplot:xlabel='rank', ylabel='reps'>"
      ]
     },
     "execution_count": 67,
     "metadata": {},
     "output_type": "execute_result"
    },
    {
     "data": {
      "image/png": "[encoded data removed]",
      "text/plain": [
       "<Figure size 432x288 with 1 Axes>"
      ]
     },
     "metadata": {
      "needs_background": "light"
     },
     "output_type": "display_data"
    }
   ],
   "source": [
    "Event2.plot.scatter(x = 'rank', y = 'reps', grid = True,alpha = 0.3)"
   ]
  },
  {
   "cell_type": "markdown",
   "id": "f4f37338-690c-434e-a3bc-42ea17166aa1",
   "metadata": {},
   "source": [
    "### Event 3 Analysis\n",
    "\n",
    "For time:\n",
    "21 deadlifts, 225 lb.\n",
    "\n",
    "21 handstand push-ups\n",
    "\n",
    "15 deadlifts, 225 lb.\n",
    "\n",
    "15 handstand push-ups\n",
    "\n",
    "9 deadlifts, 225 lb.\n",
    "\n",
    "9 handstand push-ups\n",
    "\n",
    "21 deadlifts, 315 lb.\n",
    "\n",
    "50-ft. handstand walk\n",
    "\n",
    "15 deadlifts, 315 lb.\n",
    "\n",
    "50-ft. handstand walk\n",
    "\n",
    "9 deadlifts, 315 lb.\n",
    "\n",
    "50-ft. handstand walk\n",
    "\n",
    "Time cap: 9 min."
   ]
  },
  {
   "cell_type": "code",
   "execution_count": 68,
   "id": "4aa253f7-d7bd-4bc7-b487-1800a5ab17ac",
   "metadata": {},
   "outputs": [],
   "source": [
    "Event3 = DF_MenScore[(DF_MenScore['ordinal'] == 3) & (DF_MenScore['scaled'] == 0)] "
   ]
  },
  {
   "cell_type": "code",
   "execution_count": 69,
   "id": "c53f9edb-ecd6-4701-a9e8-1456b3d73e63",
   "metadata": {},
   "outputs": [
    {
     "data": {
      "text/html": [
       "<div>\n",
       "<style scoped>\n",
       "    .dataframe tbody tr th:only-of-type {\n",
       "        vertical-align: middle;\n",
       "    }\n",
       "\n",
       "    .dataframe tbody tr th {\n",
       "        vertical-align: top;\n",
       "    }\n",
       "\n",
       "    .dataframe thead th {\n",
       "        text-align: right;\n",
       "    }\n",
       "</style>\n",
       "<table border=\"1\" class=\"dataframe\">\n",
       "  <thead>\n",
       "    <tr style=\"text-align: right;\">\n",
       "      <th></th>\n",
       "      <th>1402</th>\n",
       "      <th>602</th>\n",
       "      <th>7</th>\n",
       "      <th>937</th>\n",
       "      <th>277</th>\n",
       "    </tr>\n",
       "  </thead>\n",
       "  <tbody>\n",
       "    <tr>\n",
       "      <th>competitorid</th>\n",
       "      <td>10169</td>\n",
       "      <td>157139</td>\n",
       "      <td>153604</td>\n",
       "      <td>38209</td>\n",
       "      <td>300638</td>\n",
       "    </tr>\n",
       "    <tr>\n",
       "      <th>competitorname</th>\n",
       "      <td>Austin Malleolo</td>\n",
       "      <td>Cody Mooney</td>\n",
       "      <td>Mathew Fraser</td>\n",
       "      <td>Lucas Parker</td>\n",
       "      <td>Tola Morakinyo</td>\n",
       "    </tr>\n",
       "    <tr>\n",
       "      <th>gender</th>\n",
       "      <td>M</td>\n",
       "      <td>M</td>\n",
       "      <td>M</td>\n",
       "      <td>M</td>\n",
       "      <td>M</td>\n",
       "    </tr>\n",
       "    <tr>\n",
       "      <th>divisionid</th>\n",
       "      <td>1</td>\n",
       "      <td>1</td>\n",
       "      <td>1</td>\n",
       "      <td>1</td>\n",
       "      <td>1</td>\n",
       "    </tr>\n",
       "    <tr>\n",
       "      <th>age</th>\n",
       "      <td>33</td>\n",
       "      <td>26</td>\n",
       "      <td>30</td>\n",
       "      <td>30</td>\n",
       "      <td>24</td>\n",
       "    </tr>\n",
       "    <tr>\n",
       "      <th>height</th>\n",
       "      <td>1.65</td>\n",
       "      <td>1.83</td>\n",
       "      <td>1.7</td>\n",
       "      <td>1.73</td>\n",
       "      <td>1.83</td>\n",
       "    </tr>\n",
       "    <tr>\n",
       "      <th>weight</th>\n",
       "      <td>80.74</td>\n",
       "      <td>95.25</td>\n",
       "      <td>88.45</td>\n",
       "      <td>86.18</td>\n",
       "      <td>93.89</td>\n",
       "    </tr>\n",
       "    <tr>\n",
       "      <th>overallrank</th>\n",
       "      <td>294</td>\n",
       "      <td>123</td>\n",
       "      <td>2</td>\n",
       "      <td>193</td>\n",
       "      <td>57</td>\n",
       "    </tr>\n",
       "    <tr>\n",
       "      <th>affiliate</th>\n",
       "      <td>CrossFit ONE Nation</td>\n",
       "      <td>CrossFit Solace</td>\n",
       "      <td>CrossFit Mayhem</td>\n",
       "      <td>CrossFit Colosseum</td>\n",
       "      <td>CrossFit Invictus Back Bay</td>\n",
       "    </tr>\n",
       "    <tr>\n",
       "      <th>breakdown</th>\n",
       "      <td>165 reps</td>\n",
       "      <td>165 reps</td>\n",
       "      <td>165 reps</td>\n",
       "      <td>165 reps</td>\n",
       "      <td>165 reps</td>\n",
       "    </tr>\n",
       "    <tr>\n",
       "      <th>division</th>\n",
       "      <td>Men</td>\n",
       "      <td>Men</td>\n",
       "      <td>Men</td>\n",
       "      <td>Men</td>\n",
       "      <td>Men</td>\n",
       "    </tr>\n",
       "    <tr>\n",
       "      <th>is_scaled</th>\n",
       "      <td>0</td>\n",
       "      <td>0</td>\n",
       "      <td>0</td>\n",
       "      <td>0</td>\n",
       "      <td>0</td>\n",
       "    </tr>\n",
       "    <tr>\n",
       "      <th>judge</th>\n",
       "      <td>James Hobart</td>\n",
       "      <td>Dariel Cepeda</td>\n",
       "      <td>Jason Fernandez</td>\n",
       "      <td>Paul McIntyre</td>\n",
       "      <td>Justin Wright</td>\n",
       "    </tr>\n",
       "    <tr>\n",
       "      <th>ordinal</th>\n",
       "      <td>3</td>\n",
       "      <td>3</td>\n",
       "      <td>3</td>\n",
       "      <td>3</td>\n",
       "      <td>3</td>\n",
       "    </tr>\n",
       "    <tr>\n",
       "      <th>rank</th>\n",
       "      <td>1</td>\n",
       "      <td>2</td>\n",
       "      <td>3</td>\n",
       "      <td>4</td>\n",
       "      <td>5</td>\n",
       "    </tr>\n",
       "    <tr>\n",
       "      <th>scaled</th>\n",
       "      <td>0</td>\n",
       "      <td>0</td>\n",
       "      <td>0</td>\n",
       "      <td>0</td>\n",
       "      <td>0</td>\n",
       "    </tr>\n",
       "    <tr>\n",
       "      <th>score</th>\n",
       "      <td>1001650186</td>\n",
       "      <td>1001650175</td>\n",
       "      <td>1001650172</td>\n",
       "      <td>1001650161</td>\n",
       "      <td>1001650158</td>\n",
       "    </tr>\n",
       "    <tr>\n",
       "      <th>scoredisplay</th>\n",
       "      <td>5:54</td>\n",
       "      <td>6:05</td>\n",
       "      <td>6:08</td>\n",
       "      <td>6:19</td>\n",
       "      <td>6:22</td>\n",
       "    </tr>\n",
       "    <tr>\n",
       "      <th>scoreidentifier</th>\n",
       "      <td>8365b68e00aa75d9cbc8</td>\n",
       "      <td>5ad46110807b6f88edbe</td>\n",
       "      <td>4f4a994a045652c894c5</td>\n",
       "      <td>d203e964141946788124</td>\n",
       "      <td>41dadd8c6c251cf4c4bb</td>\n",
       "    </tr>\n",
       "    <tr>\n",
       "      <th>time</th>\n",
       "      <td>354.0</td>\n",
       "      <td>365.0</td>\n",
       "      <td>368.0</td>\n",
       "      <td>379.0</td>\n",
       "      <td>382.0</td>\n",
       "    </tr>\n",
       "  </tbody>\n",
       "</table>\n",
       "</div>"
      ],
      "text/plain": [
       "                                 1402                  602   \\\n",
       "competitorid                    10169                157139   \n",
       "competitorname        Austin Malleolo           Cody Mooney   \n",
       "gender                              M                     M   \n",
       "divisionid                          1                     1   \n",
       "age                                33                    26   \n",
       "height                           1.65                  1.83   \n",
       "weight                          80.74                 95.25   \n",
       "overallrank                       294                   123   \n",
       "affiliate         CrossFit ONE Nation       CrossFit Solace   \n",
       "breakdown                    165 reps              165 reps   \n",
       "division                          Men                   Men   \n",
       "is_scaled                           0                     0   \n",
       "judge                    James Hobart         Dariel Cepeda   \n",
       "ordinal                             3                     3   \n",
       "rank                                1                     2   \n",
       "scaled                              0                     0   \n",
       "score                      1001650186            1001650175   \n",
       "scoredisplay                     5:54                  6:05   \n",
       "scoreidentifier  8365b68e00aa75d9cbc8  5ad46110807b6f88edbe   \n",
       "time                            354.0                 365.0   \n",
       "\n",
       "                                 7                     937   \\\n",
       "competitorid                   153604                 38209   \n",
       "competitorname          Mathew Fraser          Lucas Parker   \n",
       "gender                              M                     M   \n",
       "divisionid                          1                     1   \n",
       "age                                30                    30   \n",
       "height                            1.7                  1.73   \n",
       "weight                          88.45                 86.18   \n",
       "overallrank                         2                   193   \n",
       "affiliate             CrossFit Mayhem    CrossFit Colosseum   \n",
       "breakdown                    165 reps              165 reps   \n",
       "division                          Men                   Men   \n",
       "is_scaled                           0                     0   \n",
       "judge                 Jason Fernandez         Paul McIntyre   \n",
       "ordinal                             3                     3   \n",
       "rank                                3                     4   \n",
       "scaled                              0                     0   \n",
       "score                      1001650172            1001650161   \n",
       "scoredisplay                     6:08                  6:19   \n",
       "scoreidentifier  4f4a994a045652c894c5  d203e964141946788124   \n",
       "time                            368.0                 379.0   \n",
       "\n",
       "                                       277   \n",
       "competitorid                         300638  \n",
       "competitorname               Tola Morakinyo  \n",
       "gender                                    M  \n",
       "divisionid                                1  \n",
       "age                                      24  \n",
       "height                                 1.83  \n",
       "weight                                93.89  \n",
       "overallrank                              57  \n",
       "affiliate        CrossFit Invictus Back Bay  \n",
       "breakdown                          165 reps  \n",
       "division                                Men  \n",
       "is_scaled                                 0  \n",
       "judge                         Justin Wright  \n",
       "ordinal                                   3  \n",
       "rank                                      5  \n",
       "scaled                                    0  \n",
       "score                            1001650158  \n",
       "scoredisplay                           6:22  \n",
       "scoreidentifier        41dadd8c6c251cf4c4bb  \n",
       "time                                  382.0  "
      ]
     },
     "execution_count": 69,
     "metadata": {},
     "output_type": "execute_result"
    }
   ],
   "source": [
    "Event3.sort_values(by = ['rank']).head(5).transpose()"
   ]
  },
  {
   "cell_type": "code",
   "execution_count": 76,
   "id": "e471c0fb-8802-4624-a311-fcdb24470831",
   "metadata": {},
   "outputs": [],
   "source": [
    "def get_reps_event3(Breakdown):\n",
    "    if Breakdown != '165 reps':\n",
    "    \n",
    "        List = Breakdown.split('\\n')\n",
    "        if ('Tiebreak' in List[-1]) or ('' in List[-1]):\n",
    "            List.pop(-1)\n",
    "            \n",
    "        HW = 0\n",
    "        Reps = 0\n",
    "        for Bk in List:\n",
    "            if 'handstand walk' in Bk:\n",
    "                M = int(Bk.split('-')[0])\n",
    "                HW += M\n",
    "            else:\n",
    "                Rep = int(Bk.split(' ')[0])\n",
    "                Reps += Rep\n",
    "        Reps = Reps + (HW//50)*10\n",
    "        \n",
    "    else:\n",
    "        Reps = int(Breakdown.split(' ')[0])\n",
    "    return Reps"
   ]
  },
  {
   "cell_type": "code",
   "execution_count": 78,
   "id": "dafb4d97-180e-406c-82f8-652f82199256",
   "metadata": {},
   "outputs": [],
   "source": [
    "Event3['reps_fun'] = Event3['breakdown'].dropna().apply(get_reps_event3)"
   ]
  },
  {
   "cell_type": "code",
   "execution_count": 79,
   "id": "c09062f0-c832-4101-b405-7291258240a1",
   "metadata": {},
   "outputs": [
    {
     "data": {
      "text/plain": [
       "count    45792.00000\n",
       "mean        80.36478\n",
       "std         33.05591\n",
       "min          1.00000\n",
       "25%         59.00000\n",
       "50%         86.00000\n",
       "75%        103.00000\n",
       "max        165.00000\n",
       "Name: reps_fun, dtype: float64"
      ]
     },
     "execution_count": 79,
     "metadata": {},
     "output_type": "execute_result"
    }
   ],
   "source": [
    "Event3['reps_fun'].describe()"
   ]
  },
  {
   "cell_type": "code",
   "execution_count": 80,
   "id": "ac4406f7-86dc-4b02-a33d-1cbcb8a8ccc8",
   "metadata": {},
   "outputs": [
    {
     "data": {
      "text/plain": [
       "<AxesSubplot:xlabel='rank', ylabel='reps_fun'>"
      ]
     },
     "execution_count": 80,
     "metadata": {},
     "output_type": "execute_result"
    },
    {
     "data": {
      "image/png": "[encoded data removed]",
      "text/plain": [
       "<Figure size 432x288 with 1 Axes>"
      ]
     },
     "metadata": {
      "needs_background": "light"
     },
     "output_type": "display_data"
    }
   ],
   "source": [
    "Event3.plot.scatter(x = 'rank', y = 'reps_fun', grid = True)"
   ]
  },
  {
   "cell_type": "markdown",
   "id": "e9fe180e-b1eb-4f55-bc79-af5f67466618",
   "metadata": {},
   "source": [
    "Graph shows only the competitors how finished the WOD"
   ]
  },
  {
   "cell_type": "code",
   "execution_count": 84,
   "id": "6aaf8dc6-2b58-47ac-8a9f-778e0a992064",
   "metadata": {},
   "outputs": [
    {
     "data": {
      "text/plain": [
       "<AxesSubplot:ylabel='age'>"
      ]
     },
     "execution_count": 84,
     "metadata": {},
     "output_type": "execute_result"
    },
    {
     "data": {
      "image/png": "[encoded data removed]",
      "text/plain": [
       "<Figure size 432x288 with 1 Axes>"
      ]
     },
     "metadata": {
      "needs_background": "light"
     },
     "output_type": "display_data"
    }
   ],
   "source": [
    "Event3[['age','reps_fun']].groupby(by = 'age').mean().plot(kind = 'barh', legend = False)"
   ]
  },
  {
   "cell_type": "code",
   "execution_count": 81,
   "id": "4a40e8c0-1b5a-40c7-9eed-9a3e6e267ab9",
   "metadata": {},
   "outputs": [
    {
     "data": {
      "text/plain": [
       "<AxesSubplot:xlabel='rank', ylabel='time'>"
      ]
     },
     "execution_count": 81,
     "metadata": {},
     "output_type": "execute_result"
    },
    {
     "data": {
      "image/png": "[encoded data removed]",
      "text/plain": [
       "<Figure size 432x288 with 1 Axes>"
      ]
     },
     "metadata": {
      "needs_background": "light"
     },
     "output_type": "display_data"
    }
   ],
   "source": [
    "Event3[Event3['breakdown'] == '165 reps'].plot.scatter(x = 'rank', y = 'time', grid = True, alpha = 0.3)"
   ]
  },
  {
   "cell_type": "markdown",
   "id": "5e65883d-ef6e-4004-b200-98ec220fa4e7",
   "metadata": {},
   "source": [
    "Time for those who finished in the time cap."
   ]
  },
  {
   "cell_type": "markdown",
   "id": "c56a6fdd-3e85-4a8b-8fd2-3044b7e0190d",
   "metadata": {},
   "source": [
    "### Event 4 Analysis\n",
    "\n",
    "For time:\n",
    "30 box jumps, 24 in.\n",
    "\n",
    "15 clean and jerks, 95 lb.\n",
    "\n",
    "30 box jumps, 24 in.\n",
    "\n",
    "15 clean and jerks, 135 lb.\n",
    "\n",
    "30 box jumps, 24 in.\n",
    "\n",
    "10 clean and jerks, 185 lb.\n",
    "\n",
    "30 single-leg squats\n",
    "\n",
    "10 clean and jerks, 225 lb.\n",
    "\n",
    "30 single-leg squats\n",
    "\n",
    "5 clean and jerks, 275 lb.\n",
    "\n",
    "30 single-leg squats\n",
    "\n",
    "5 clean and jerks, 315 lb.\n",
    "\n",
    "Time cap: 20 minutes"
   ]
  },
  {
   "cell_type": "code",
   "execution_count": 87,
   "id": "34f83d91-641c-4aea-bfbe-a595db3c664f",
   "metadata": {},
   "outputs": [],
   "source": [
    "Event4 = DF_MenScore[(DF_MenScore['ordinal'] == 4) & (DF_MenScore['scaled'] == 0)] "
   ]
  },
  {
   "cell_type": "code",
   "execution_count": 88,
   "id": "9024ac43-cd91-420f-a765-57d58f62f8b1",
   "metadata": {},
   "outputs": [
    {
     "data": {
      "text/html": [
       "<div>\n",
       "<style scoped>\n",
       "    .dataframe tbody tr th:only-of-type {\n",
       "        vertical-align: middle;\n",
       "    }\n",
       "\n",
       "    .dataframe tbody tr th {\n",
       "        vertical-align: top;\n",
       "    }\n",
       "\n",
       "    .dataframe thead th {\n",
       "        text-align: right;\n",
       "    }\n",
       "</style>\n",
       "<table border=\"1\" class=\"dataframe\">\n",
       "  <thead>\n",
       "    <tr style=\"text-align: right;\">\n",
       "      <th></th>\n",
       "      <th>competitorid</th>\n",
       "      <th>competitorname</th>\n",
       "      <th>gender</th>\n",
       "      <th>divisionid</th>\n",
       "      <th>age</th>\n",
       "      <th>height</th>\n",
       "      <th>weight</th>\n",
       "      <th>overallrank</th>\n",
       "      <th>affiliate</th>\n",
       "      <th>breakdown</th>\n",
       "      <th>division</th>\n",
       "      <th>is_scaled</th>\n",
       "      <th>judge</th>\n",
       "      <th>ordinal</th>\n",
       "      <th>rank</th>\n",
       "      <th>scaled</th>\n",
       "      <th>score</th>\n",
       "      <th>scoredisplay</th>\n",
       "      <th>scoreidentifier</th>\n",
       "      <th>time</th>\n",
       "    </tr>\n",
       "  </thead>\n",
       "  <tbody>\n",
       "    <tr>\n",
       "      <th>23</th>\n",
       "      <td>469656</td>\n",
       "      <td>Jeffrey Adler</td>\n",
       "      <td>M</td>\n",
       "      <td>1</td>\n",
       "      <td>26</td>\n",
       "      <td>1.75</td>\n",
       "      <td>89.36</td>\n",
       "      <td>5</td>\n",
       "      <td>CrossFit Wonderland</td>\n",
       "      <td>240 reps</td>\n",
       "      <td>Men</td>\n",
       "      <td>0</td>\n",
       "      <td>Caroline Lambray</td>\n",
       "      <td>4</td>\n",
       "      <td>1</td>\n",
       "      <td>0</td>\n",
       "      <td>1002400439</td>\n",
       "      <td>12:41</td>\n",
       "      <td>7f690be6455d28112cd2</td>\n",
       "      <td>761.0</td>\n",
       "    </tr>\n",
       "    <tr>\n",
       "      <th>8</th>\n",
       "      <td>153604</td>\n",
       "      <td>Mathew Fraser</td>\n",
       "      <td>M</td>\n",
       "      <td>1</td>\n",
       "      <td>30</td>\n",
       "      <td>1.70</td>\n",
       "      <td>88.45</td>\n",
       "      <td>2</td>\n",
       "      <td>CrossFit Mayhem</td>\n",
       "      <td>240 reps</td>\n",
       "      <td>Men</td>\n",
       "      <td>0</td>\n",
       "      <td>Tasia Percevecz</td>\n",
       "      <td>4</td>\n",
       "      <td>2</td>\n",
       "      <td>0</td>\n",
       "      <td>1002400338</td>\n",
       "      <td>14:22</td>\n",
       "      <td>1a4a7d8760e72bb12d68</td>\n",
       "      <td>862.0</td>\n",
       "    </tr>\n",
       "    <tr>\n",
       "      <th>278</th>\n",
       "      <td>300638</td>\n",
       "      <td>Tola Morakinyo</td>\n",
       "      <td>M</td>\n",
       "      <td>1</td>\n",
       "      <td>24</td>\n",
       "      <td>1.83</td>\n",
       "      <td>93.89</td>\n",
       "      <td>57</td>\n",
       "      <td>CrossFit Invictus Back Bay</td>\n",
       "      <td>240 reps</td>\n",
       "      <td>Men</td>\n",
       "      <td>0</td>\n",
       "      <td>Kelsey Kiel</td>\n",
       "      <td>4</td>\n",
       "      <td>3</td>\n",
       "      <td>0</td>\n",
       "      <td>1002400330</td>\n",
       "      <td>14:30</td>\n",
       "      <td>7a4cc0ec8bc5b264968b</td>\n",
       "      <td>870.0</td>\n",
       "    </tr>\n",
       "    <tr>\n",
       "      <th>13</th>\n",
       "      <td>514502</td>\n",
       "      <td>Lefteris Theofanidis</td>\n",
       "      <td>M</td>\n",
       "      <td>1</td>\n",
       "      <td>30</td>\n",
       "      <td>1.71</td>\n",
       "      <td>81.00</td>\n",
       "      <td>3</td>\n",
       "      <td>NaN</td>\n",
       "      <td>240 reps</td>\n",
       "      <td>Men</td>\n",
       "      <td>0</td>\n",
       "      <td>NaN</td>\n",
       "      <td>4</td>\n",
       "      <td>4</td>\n",
       "      <td>0</td>\n",
       "      <td>1002400300</td>\n",
       "      <td>15:00</td>\n",
       "      <td>d49e55a2af5840740071</td>\n",
       "      <td>900.0</td>\n",
       "    </tr>\n",
       "    <tr>\n",
       "      <th>163</th>\n",
       "      <td>34796</td>\n",
       "      <td>Scott Panchik</td>\n",
       "      <td>M</td>\n",
       "      <td>1</td>\n",
       "      <td>32</td>\n",
       "      <td>1.75</td>\n",
       "      <td>84.82</td>\n",
       "      <td>33</td>\n",
       "      <td>CrossFit Mentality</td>\n",
       "      <td>240 reps</td>\n",
       "      <td>Men</td>\n",
       "      <td>0</td>\n",
       "      <td>Christin Panchik</td>\n",
       "      <td>4</td>\n",
       "      <td>5</td>\n",
       "      <td>0</td>\n",
       "      <td>1002400285</td>\n",
       "      <td>15:15</td>\n",
       "      <td>a169539763361aaebd77</td>\n",
       "      <td>915.0</td>\n",
       "    </tr>\n",
       "  </tbody>\n",
       "</table>\n",
       "</div>"
      ],
      "text/plain": [
       "     competitorid        competitorname gender  divisionid  age  height  \\\n",
       "23         469656         Jeffrey Adler      M           1   26    1.75   \n",
       "8          153604         Mathew Fraser      M           1   30    1.70   \n",
       "278        300638        Tola Morakinyo      M           1   24    1.83   \n",
       "13         514502  Lefteris Theofanidis      M           1   30    1.71   \n",
       "163         34796         Scott Panchik      M           1   32    1.75   \n",
       "\n",
       "     weight  overallrank                   affiliate breakdown division  \\\n",
       "23    89.36            5         CrossFit Wonderland  240 reps      Men   \n",
       "8     88.45            2             CrossFit Mayhem  240 reps      Men   \n",
       "278   93.89           57  CrossFit Invictus Back Bay  240 reps      Men   \n",
       "13    81.00            3                         NaN  240 reps      Men   \n",
       "163   84.82           33          CrossFit Mentality  240 reps      Men   \n",
       "\n",
       "     is_scaled             judge  ordinal  rank  scaled       score  \\\n",
       "23           0  Caroline Lambray        4     1       0  1002400439   \n",
       "8            0   Tasia Percevecz        4     2       0  1002400338   \n",
       "278          0       Kelsey Kiel        4     3       0  1002400330   \n",
       "13           0               NaN        4     4       0  1002400300   \n",
       "163          0  Christin Panchik        4     5       0  1002400285   \n",
       "\n",
       "    scoredisplay       scoreidentifier   time  \n",
       "23         12:41  7f690be6455d28112cd2  761.0  \n",
       "8          14:22  1a4a7d8760e72bb12d68  862.0  \n",
       "278        14:30  7a4cc0ec8bc5b264968b  870.0  \n",
       "13         15:00  d49e55a2af5840740071  900.0  \n",
       "163        15:15  a169539763361aaebd77  915.0  "
      ]
     },
     "execution_count": 88,
     "metadata": {},
     "output_type": "execute_result"
    }
   ],
   "source": [
    "Event4.sort_values(by = ['rank']).head()"
   ]
  },
  {
   "cell_type": "code",
   "execution_count": 89,
   "id": "28af2dc6-6333-4ed0-a4b0-ed7e197f8295",
   "metadata": {},
   "outputs": [],
   "source": [
    "def get_reps_event4(Breakdown):\n",
    "    if Breakdown != '240 reps':  \n",
    "        List = Breakdown.split('\\n')\n",
    "        if ('Tiebreak' in List[-1]) or ('' in List[-1]):\n",
    "            List.pop(-1)\n",
    "            \n",
    "        Reps = 0\n",
    "        for Bk in List:\n",
    "                Rep = int(Bk.split(' ')[0])\n",
    "                Reps += Rep        \n",
    "    else:\n",
    "        Reps = int(Breakdown.split(' ')[0])\n",
    "    return Reps"
   ]
  },
  {
   "cell_type": "code",
   "execution_count": 92,
   "id": "16079d52-b2b1-4114-9d1a-1a2f8a9ce3fe",
   "metadata": {},
   "outputs": [],
   "source": [
    "Event4['reps_fun'] = Event4['breakdown'].dropna().apply(get_reps_event4)"
   ]
  },
  {
   "cell_type": "code",
   "execution_count": 93,
   "id": "dcb9f96b-0b1f-4df9-acf2-08bf84e50ea5",
   "metadata": {},
   "outputs": [
    {
     "data": {
      "text/plain": [
       "<AxesSubplot:xlabel='rank', ylabel='reps_fun'>"
      ]
     },
     "execution_count": 93,
     "metadata": {},
     "output_type": "execute_result"
    },
    {
     "data": {
      "image/png": "[encoded data removed]",
      "text/plain": [
       "<Figure size 432x288 with 1 Axes>"
      ]
     },
     "metadata": {
      "needs_background": "light"
     },
     "output_type": "display_data"
    }
   ],
   "source": [
    "Event4.plot.scatter(x = 'rank', y = 'reps_fun', grid = True, alpha = 0.3)"
   ]
  },
  {
   "cell_type": "code",
   "execution_count": 99,
   "id": "3aa90f35-79f8-4a76-bf08-40bd2578baee",
   "metadata": {},
   "outputs": [
    {
     "data": {
      "text/plain": [
       "<AxesSubplot:ylabel='age'>"
      ]
     },
     "execution_count": 99,
     "metadata": {},
     "output_type": "execute_result"
    },
    {
     "data": {
      "image/png": "[encoded data removed]",
      "text/plain": [
       "<Figure size 432x288 with 1 Axes>"
      ]
     },
     "metadata": {
      "needs_background": "light"
     },
     "output_type": "display_data"
    }
   ],
   "source": [
    "Event4[['age','reps_fun']].groupby(by = 'age').mean().plot(kind = 'barh', legend = False)"
   ]
  },
  {
   "cell_type": "code",
   "execution_count": 94,
   "id": "539aa5ae-136d-421b-86da-60abf3651fc4",
   "metadata": {},
   "outputs": [
    {
     "data": {
      "text/plain": [
       "<AxesSubplot:xlabel='rank', ylabel='time'>"
      ]
     },
     "execution_count": 94,
     "metadata": {},
     "output_type": "execute_result"
    },
    {
     "data": {
      "image/png": "[encoded data removed]",
      "text/plain": [
       "<Figure size 432x288 with 1 Axes>"
      ]
     },
     "metadata": {
      "needs_background": "light"
     },
     "output_type": "display_data"
    }
   ],
   "source": [
    "Event4[Event4['breakdown'] == '240 reps'].plot.scatter(x = 'rank', y = 'time', grid = True, alpha = 0.3)"
   ]
  },
  {
   "cell_type": "markdown",
   "id": "447e74ba-3943-40b8-9947-2d92675eeeb0",
   "metadata": {},
   "source": [
    "Time for those who finished inside the time cap."
   ]
  },
  {
   "cell_type": "markdown",
   "id": "ae6ad05d-8ce2-4fa0-b1ba-6ef548114881",
   "metadata": {},
   "source": [
    "### Event 5 Analysis\n",
    "\n",
    "For time, partitioned any way:\n",
    "\n",
    "40 muscle-ups\n",
    "\n",
    "80-cal. row\n",
    "\n",
    "120 wall-ball shots, 20-lb. ball to 10 ft.\n",
    "\n",
    "Time cap: 20 min."
   ]
  },
  {
   "cell_type": "code",
   "execution_count": 101,
   "id": "76b3e17c-7ab0-42e9-b38d-54b11999f63f",
   "metadata": {},
   "outputs": [],
   "source": [
    "Event5 = DF_MenScore[(DF_MenScore['ordinal'] == 5) & (DF_MenScore['scaled'] == 0)] "
   ]
  },
  {
   "cell_type": "code",
   "execution_count": 103,
   "id": "52322967-e892-4bbc-9b6d-fcd3f5f187f0",
   "metadata": {},
   "outputs": [
    {
     "data": {
      "text/html": [
       "<div>\n",
       "<style scoped>\n",
       "    .dataframe tbody tr th:only-of-type {\n",
       "        vertical-align: middle;\n",
       "    }\n",
       "\n",
       "    .dataframe tbody tr th {\n",
       "        vertical-align: top;\n",
       "    }\n",
       "\n",
       "    .dataframe thead th {\n",
       "        text-align: right;\n",
       "    }\n",
       "</style>\n",
       "<table border=\"1\" class=\"dataframe\">\n",
       "  <thead>\n",
       "    <tr style=\"text-align: right;\">\n",
       "      <th></th>\n",
       "      <th>1699</th>\n",
       "      <th>4</th>\n",
       "      <th>19</th>\n",
       "      <th>49</th>\n",
       "      <th>184</th>\n",
       "    </tr>\n",
       "  </thead>\n",
       "  <tbody>\n",
       "    <tr>\n",
       "      <th>competitorid</th>\n",
       "      <td>1059467</td>\n",
       "      <td>158264</td>\n",
       "      <td>81616</td>\n",
       "      <td>975774</td>\n",
       "      <td>1718365</td>\n",
       "    </tr>\n",
       "    <tr>\n",
       "      <th>competitorname</th>\n",
       "      <td>Lazar Đukić</td>\n",
       "      <td>Patrick Vellner</td>\n",
       "      <td>Björgvin Karl Guðmundsson</td>\n",
       "      <td>Roman Khrennikov</td>\n",
       "      <td>Cole Greashaber</td>\n",
       "    </tr>\n",
       "    <tr>\n",
       "      <th>gender</th>\n",
       "      <td>M</td>\n",
       "      <td>M</td>\n",
       "      <td>M</td>\n",
       "      <td>M</td>\n",
       "      <td>M</td>\n",
       "    </tr>\n",
       "    <tr>\n",
       "      <th>divisionid</th>\n",
       "      <td>1</td>\n",
       "      <td>1</td>\n",
       "      <td>1</td>\n",
       "      <td>1</td>\n",
       "      <td>1</td>\n",
       "    </tr>\n",
       "    <tr>\n",
       "      <th>age</th>\n",
       "      <td>24</td>\n",
       "      <td>30</td>\n",
       "      <td>27</td>\n",
       "      <td>25</td>\n",
       "      <td>20</td>\n",
       "    </tr>\n",
       "    <tr>\n",
       "      <th>height</th>\n",
       "      <td>1.83</td>\n",
       "      <td>1.8</td>\n",
       "      <td>1.78</td>\n",
       "      <td>1.82</td>\n",
       "      <td>1.83</td>\n",
       "    </tr>\n",
       "    <tr>\n",
       "      <th>weight</th>\n",
       "      <td>90.0</td>\n",
       "      <td>88.45</td>\n",
       "      <td>83.91</td>\n",
       "      <td>95.0</td>\n",
       "      <td>90.72</td>\n",
       "    </tr>\n",
       "    <tr>\n",
       "      <th>overallrank</th>\n",
       "      <td>360</td>\n",
       "      <td>1</td>\n",
       "      <td>4</td>\n",
       "      <td>10</td>\n",
       "      <td>37</td>\n",
       "    </tr>\n",
       "    <tr>\n",
       "      <th>affiliate</th>\n",
       "      <td>NaN</td>\n",
       "      <td>CrossFit New England</td>\n",
       "      <td>Simmagym CrossFit</td>\n",
       "      <td>NaN</td>\n",
       "      <td>CrossFit Lee's Summit (LS)</td>\n",
       "    </tr>\n",
       "    <tr>\n",
       "      <th>breakdown</th>\n",
       "      <td>240 reps</td>\n",
       "      <td>240 reps</td>\n",
       "      <td>240 reps</td>\n",
       "      <td>240 reps</td>\n",
       "      <td>240 reps</td>\n",
       "    </tr>\n",
       "    <tr>\n",
       "      <th>division</th>\n",
       "      <td>Men</td>\n",
       "      <td>Men</td>\n",
       "      <td>Men</td>\n",
       "      <td>Men</td>\n",
       "      <td>Men</td>\n",
       "    </tr>\n",
       "    <tr>\n",
       "      <th>is_scaled</th>\n",
       "      <td>0</td>\n",
       "      <td>0</td>\n",
       "      <td>0</td>\n",
       "      <td>0</td>\n",
       "      <td>0</td>\n",
       "    </tr>\n",
       "    <tr>\n",
       "      <th>judge</th>\n",
       "      <td>NaN</td>\n",
       "      <td>Matt O'Keefe</td>\n",
       "      <td>Throstur Olason</td>\n",
       "      <td>NaN</td>\n",
       "      <td>Carrie Rieger</td>\n",
       "    </tr>\n",
       "    <tr>\n",
       "      <th>ordinal</th>\n",
       "      <td>5</td>\n",
       "      <td>5</td>\n",
       "      <td>5</td>\n",
       "      <td>5</td>\n",
       "      <td>5</td>\n",
       "    </tr>\n",
       "    <tr>\n",
       "      <th>rank</th>\n",
       "      <td>1</td>\n",
       "      <td>2</td>\n",
       "      <td>3</td>\n",
       "      <td>4</td>\n",
       "      <td>4</td>\n",
       "    </tr>\n",
       "    <tr>\n",
       "      <th>scaled</th>\n",
       "      <td>0</td>\n",
       "      <td>0</td>\n",
       "      <td>0</td>\n",
       "      <td>0</td>\n",
       "      <td>0</td>\n",
       "    </tr>\n",
       "    <tr>\n",
       "      <th>score</th>\n",
       "      <td>1002400606</td>\n",
       "      <td>1002400591</td>\n",
       "      <td>1002400589</td>\n",
       "      <td>1002400586</td>\n",
       "      <td>1002400586</td>\n",
       "    </tr>\n",
       "    <tr>\n",
       "      <th>scoredisplay</th>\n",
       "      <td>9:54</td>\n",
       "      <td>10:09</td>\n",
       "      <td>10:11</td>\n",
       "      <td>10:14</td>\n",
       "      <td>10:14</td>\n",
       "    </tr>\n",
       "    <tr>\n",
       "      <th>scoreidentifier</th>\n",
       "      <td>2f6c1644df5740a03585</td>\n",
       "      <td>4bb25bed5f71141da122</td>\n",
       "      <td>750453a2640bf1e2e8db</td>\n",
       "      <td>05a13791f7b07ca01c46</td>\n",
       "      <td>d7ea928082d0d4cc7920</td>\n",
       "    </tr>\n",
       "    <tr>\n",
       "      <th>time</th>\n",
       "      <td>594.0</td>\n",
       "      <td>609.0</td>\n",
       "      <td>611.0</td>\n",
       "      <td>614.0</td>\n",
       "      <td>614.0</td>\n",
       "    </tr>\n",
       "  </tbody>\n",
       "</table>\n",
       "</div>"
      ],
      "text/plain": [
       "                                 1699                  4     \\\n",
       "competitorid                  1059467                158264   \n",
       "competitorname            Lazar Đukić       Patrick Vellner   \n",
       "gender                              M                     M   \n",
       "divisionid                          1                     1   \n",
       "age                                24                    30   \n",
       "height                           1.83                   1.8   \n",
       "weight                           90.0                 88.45   \n",
       "overallrank                       360                     1   \n",
       "affiliate                         NaN  CrossFit New England   \n",
       "breakdown                    240 reps              240 reps   \n",
       "division                          Men                   Men   \n",
       "is_scaled                           0                     0   \n",
       "judge                             NaN          Matt O'Keefe   \n",
       "ordinal                             5                     5   \n",
       "rank                                1                     2   \n",
       "scaled                              0                     0   \n",
       "score                      1002400606            1002400591   \n",
       "scoredisplay                     9:54                 10:09   \n",
       "scoreidentifier  2f6c1644df5740a03585  4bb25bed5f71141da122   \n",
       "time                            594.0                 609.0   \n",
       "\n",
       "                                      19                    49    \\\n",
       "competitorid                         81616                975774   \n",
       "competitorname   Björgvin Karl Guðmundsson      Roman Khrennikov   \n",
       "gender                                   M                     M   \n",
       "divisionid                               1                     1   \n",
       "age                                     27                    25   \n",
       "height                                1.78                  1.82   \n",
       "weight                               83.91                  95.0   \n",
       "overallrank                              4                    10   \n",
       "affiliate                Simmagym CrossFit                   NaN   \n",
       "breakdown                         240 reps              240 reps   \n",
       "division                               Men                   Men   \n",
       "is_scaled                                0                     0   \n",
       "judge                      Throstur Olason                   NaN   \n",
       "ordinal                                  5                     5   \n",
       "rank                                     3                     4   \n",
       "scaled                                   0                     0   \n",
       "score                           1002400589            1002400586   \n",
       "scoredisplay                         10:11                 10:14   \n",
       "scoreidentifier       750453a2640bf1e2e8db  05a13791f7b07ca01c46   \n",
       "time                                 611.0                 614.0   \n",
       "\n",
       "                                       184   \n",
       "competitorid                        1718365  \n",
       "competitorname              Cole Greashaber  \n",
       "gender                                    M  \n",
       "divisionid                                1  \n",
       "age                                      20  \n",
       "height                                 1.83  \n",
       "weight                                90.72  \n",
       "overallrank                              37  \n",
       "affiliate        CrossFit Lee's Summit (LS)  \n",
       "breakdown                          240 reps  \n",
       "division                                Men  \n",
       "is_scaled                                 0  \n",
       "judge                         Carrie Rieger  \n",
       "ordinal                                   5  \n",
       "rank                                      4  \n",
       "scaled                                    0  \n",
       "score                            1002400586  \n",
       "scoredisplay                          10:14  \n",
       "scoreidentifier        d7ea928082d0d4cc7920  \n",
       "time                                  614.0  "
      ]
     },
     "execution_count": 103,
     "metadata": {},
     "output_type": "execute_result"
    }
   ],
   "source": [
    "Event5.sort_values(by = ['rank']).head().transpose()"
   ]
  },
  {
   "cell_type": "code",
   "execution_count": 106,
   "id": "b5140e47-8b6c-4e7d-a3f9-46f36e38fd7e",
   "metadata": {},
   "outputs": [],
   "source": [
    "def get_reps_event5(Breakdown):\n",
    "    if Breakdown != '240 reps':  \n",
    "        List = Breakdown.split('\\n')\n",
    "        if ('Tiebreak' in List[-1]) or ('' in List[-1]):\n",
    "            List.pop(-1)\n",
    "            \n",
    "        Reps = 0\n",
    "        for Bk in List:\n",
    "            if 'cal' in Bk:\n",
    "                Rep = int(Bk.split('-')[0])\n",
    "                Reps += Rep\n",
    "            else:\n",
    "                Rep = int(Bk.split(' ')[0])\n",
    "                Reps += Rep        \n",
    "    else:\n",
    "        Reps = int(Breakdown.split(' ')[0])\n",
    "    return Reps"
   ]
  },
  {
   "cell_type": "code",
   "execution_count": 107,
   "id": "86aad030-ff1c-4640-bdf6-5318b4f0a65c",
   "metadata": {},
   "outputs": [],
   "source": [
    "Event5['reps_fun'] = Event5['breakdown'].dropna().apply(get_reps_event5)"
   ]
  },
  {
   "cell_type": "code",
   "execution_count": 108,
   "id": "253ece19-d9cf-4cf3-b8d1-24144d5a2776",
   "metadata": {},
   "outputs": [
    {
     "data": {
      "text/plain": [
       "<AxesSubplot:xlabel='rank', ylabel='reps_fun'>"
      ]
     },
     "execution_count": 108,
     "metadata": {},
     "output_type": "execute_result"
    },
    {
     "data": {
      "image/png": "[encoded data removed]",
      "text/plain": [
       "<Figure size 432x288 with 1 Axes>"
      ]
     },
     "metadata": {
      "needs_background": "light"
     },
     "output_type": "display_data"
    }
   ],
   "source": [
    "Event5.plot.scatter(x = 'rank', y = 'reps_fun', grid = True, alpha = 0.3)"
   ]
  },
  {
   "cell_type": "code",
   "execution_count": 111,
   "id": "3882a369-8419-4124-b94d-cd9ba264aa18",
   "metadata": {},
   "outputs": [
    {
     "data": {
      "text/plain": [
       "<AxesSubplot:ylabel='age'>"
      ]
     },
     "execution_count": 111,
     "metadata": {},
     "output_type": "execute_result"
    },
    {
     "data": {
      "image/png": "[encoded data removed]",
      "text/plain": [
       "<Figure size 432x288 with 1 Axes>"
      ]
     },
     "metadata": {
      "needs_background": "light"
     },
     "output_type": "display_data"
    }
   ],
   "source": [
    "Event5[['age','reps_fun']].groupby(by = 'age').mean().plot(kind = 'barh', legend = False)"
   ]
  },
  {
   "cell_type": "code",
   "execution_count": 305,
   "id": "02399851-a509-4798-bc01-c4ac59ada8b9",
   "metadata": {},
   "outputs": [
    {
     "data": {
      "text/plain": [
       "<AxesSubplot:xlabel='rank', ylabel='time'>"
      ]
     },
     "execution_count": 305,
     "metadata": {},
     "output_type": "execute_result"
    },
    {
     "data": {
      "image/png": "[encoded data removed]",
      "text/plain": [
       "<Figure size 432x288 with 1 Axes>"
      ]
     },
     "metadata": {
      "needs_background": "light"
     },
     "output_type": "display_data"
    }
   ],
   "source": [
    "Event5[Event5['breakdown'] == '240 reps'].plot.scatter(x = 'rank', y = 'time', grid = True, alpha = 0.3)"
   ]
  },
  {
   "cell_type": "markdown",
   "id": "72d716b0-244e-488a-a635-fcaf3bd35d8e",
   "metadata": {},
   "source": [
    "Time for those who finished inside the time cap."
   ]
  }
 ],
 "metadata": {
  "kernelspec": {
   "display_name": "Python 3 (ipykernel)",
   "language": "python",
   "name": "python3"
  },
  "language_info": {
   "codemirror_mode": {
    "name": "ipython",
    "version": 3
   },
   "file_extension": ".py",
   "mimetype": "text/x-python",
   "name": "python",
   "nbconvert_exporter": "python",
   "pygments_lexer": "ipython3",
   "version": "3.8.8"
  }
 },
 "nbformat": 4,
 "nbformat_minor": 5
}
